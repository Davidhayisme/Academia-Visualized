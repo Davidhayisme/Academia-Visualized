{
 "cells": [
  {
   "cell_type": "code",
   "execution_count": 1,
   "id": "4e31cf9a",
   "metadata": {},
   "outputs": [],
   "source": [
    "import pandas , numpy\n",
    "import psycopg2\n",
    "from dotenv import load_dotenv\n",
    "import os\n",
    "import time"
   ]
  },
  {
   "cell_type": "code",
   "execution_count": 2,
   "id": "b62d65f0",
   "metadata": {},
   "outputs": [
    {
     "data": {
      "text/plain": [
       "True"
      ]
     },
     "execution_count": 2,
     "metadata": {},
     "output_type": "execute_result"
    }
   ],
   "source": [
    "load_dotenv()"
   ]
  },
  {
   "cell_type": "code",
   "execution_count": 3,
   "id": "7d5cba88",
   "metadata": {},
   "outputs": [],
   "source": [
    "#CONNECTING TO COMPANY DB\n",
    "db_name = \"OpenAlex\"\n",
    "user = os.getenv(\"user\")\n",
    "password = os.getenv(\"password\")\n",
    "host = os.getenv(\"host\")\n",
    "port = os.getenv(\"port\")"
   ]
  },
  {
   "cell_type": "code",
   "execution_count": 4,
   "id": "4e62ecf5",
   "metadata": {},
   "outputs": [],
   "source": [
    "conn = psycopg2.connect(f\"dbname ={db_name} user={user} password={password} host={host} port={port}\")"
   ]
  },
  {
   "cell_type": "code",
   "execution_count": 5,
   "id": "2e6f9157",
   "metadata": {},
   "outputs": [],
   "source": [
    "#getting top 5 papers for each field\n",
    "#bronchitis\n",
    "query = \"\"\"\n",
    "WITH sarcoma_related_mesh AS (\n",
    "    SELECT DISTINCT work_id\n",
    "    FROM works_mesh wm\n",
    "    WHERE wm.descriptor_name ILIKE '%bronchitis%'\n",
    ")\n",
    "SELECT\n",
    "    w.open_access_oa_status,\n",
    "    COUNT(DISTINCT w.id) AS paper_count\n",
    "FROM works w\n",
    "JOIN sarcoma_related_mesh mrw ON w.id = mrw.work_id\n",
    "GROUP BY\n",
    "    w.open_access_oa_status;\n",
    "\"\"\""
   ]
  },
  {
   "cell_type": "code",
   "execution_count": 6,
   "id": "f0b18dce",
   "metadata": {},
   "outputs": [],
   "source": [
    "# cursor = conn.cursor()\n",
    "# cursor.execute(query)\n",
    "# #cursor.execute(query , ([\"%cancer%\"],))\n",
    "# rows = cursor.fetchall()\n",
    "# print(rows)"
   ]
  },
  {
   "cell_type": "code",
   "execution_count": 7,
   "id": "f0b18dce",
   "metadata": {},
   "outputs": [],
   "source": [
    "dict_diseases = {'Bronchitis': ['%bronchitis%'],\n",
    " 'Covid': ['%covid%', '%coronavirus%', '%sars-cov-2%', '%2019-ncov%'],\n",
    " \"Alzheimer's\": ['%alzheimer%', '%dementia%', '%neurodegenerative%'],\n",
    " 'Diabetes': ['%diabetes%', '%hyperglycemia%'],\n",
    " 'Lymphoma': ['%lymphoma%', '%Hodgkin%', '%lymphatic%'],\n",
    " 'Sarcoma': ['%sarcoma%'],\n",
    " 'Liver Disease': ['%liver%',\n",
    "  '%hepatic%',\n",
    "  '%cirrhosis%',\n",
    "  '%hepatitis%',\n",
    "  '%cholestasis%'] ,\n",
    "  'Heart disease': ['%heart%',\n",
    "  '%cardiovascular%',\n",
    "  '%cardiac%',\n",
    "  '%coronary%',\n",
    "  '%myocardial%',\n",
    "  '%angina%',\n",
    "  '%cardiomyopathy%',\n",
    "  '%arteriosclerosis%'],\n",
    "  'Cancer': ['%cancer%', '%carcinoma%', '%neoplasm%', '%tumor%', '%malignant%']}"
   ]
  },
  {
   "cell_type": "code",
   "execution_count": 8,
   "id": "576a5f67",
   "metadata": {},
   "outputs": [],
   "source": [
    "def number_openaccess_query(keyword = None, lst_keywords = None):\n",
    "    if keyword:\n",
    "        query = f\"\"\"\n",
    "            WITH sarcoma_related_mesh AS (\n",
    "                SELECT DISTINCT work_id\n",
    "                FROM works_mesh wm\n",
    "                WHERE wm.descriptor_name ILIKE '{keyword}'\n",
    "            )\n",
    "            SELECT\n",
    "                w.open_access_oa_status,\n",
    "                COUNT(DISTINCT w.id) AS paper_count\n",
    "            FROM works w\n",
    "            JOIN sarcoma_related_mesh mrw ON w.id = mrw.work_id\n",
    "            GROUP BY\n",
    "                w.open_access_oa_status;\n",
    "            \"\"\"\n",
    "    else:\n",
    "        formatted_keywords = \", \".join([f\"'{kw}'\" for kw in lst_keywords])\n",
    "        query = f\"\"\"\n",
    "            WITH sarcoma_related_mesh AS (\n",
    "                SELECT DISTINCT work_id\n",
    "                FROM works_mesh wm\n",
    "                WHERE wm.descriptor_name ILIKE ANY(ARRAY[{formatted_keywords}])\n",
    "            )\n",
    "            SELECT\n",
    "                w.open_access_oa_status,\n",
    "                COUNT(DISTINCT w.id) AS paper_count\n",
    "            FROM works w\n",
    "            JOIN sarcoma_related_mesh mrw ON w.id = mrw.work_id\n",
    "            GROUP BY\n",
    "                w.open_access_oa_status;\n",
    "            \"\"\"\n",
    "    return query"
   ]
  },
  {
   "cell_type": "code",
   "execution_count": null,
   "id": "757bf3f8",
   "metadata": {},
   "outputs": [
    {
     "name": "stdout",
     "output_type": "stream",
     "text": [
      "running Bronchitis\n",
      "[('bronze', 2318), ('closed', 19377), ('diamond', 73), ('gold', 799), ('green', 823), ('hybrid', 307)]\n",
      "Ran in 171.20797276496887 seconds\n",
      "running Covid\n",
      "[('bronze', 36200), ('closed', 48336), ('diamond', 8367), ('gold', 89188), ('green', 47462), ('hybrid', 41241)]\n",
      "Ran in 468.01255202293396 seconds\n",
      "running Alzheimer's\n",
      "[('bronze', 22026), ('closed', 126549), ('diamond', 778), ('gold', 28870), ('green', 25735), ('hybrid', 17069)]\n",
      "Ran in 420.55153822898865 seconds\n",
      "running Diabetes\n",
      "[('bronze', 70844), ('closed', 299767), ('diamond', 4496), ('gold', 65482), ('green', 29647), ('hybrid', 24049)]\n",
      "Ran in 233.79336857795715 seconds\n",
      "running Lymphoma\n",
      "[('bronze', 45750), ('closed', 254411), ('diamond', 1491), ('gold', 25836), ('green', 15958), ('hybrid', 11436)]\n",
      "Ran in 306.9700753688812 seconds\n",
      "running Sarcoma\n",
      "[('bronze', 16899), ('closed', 116311), ('diamond', 687), ('gold', 10469), ('green', 7668), ('hybrid', 3864)]\n",
      "Ran in 111.91938781738281 seconds\n",
      "running Liver Disease\n"
     ]
    }
   ],
   "source": [
    "#running all the diseases\n",
    "for key , value in dict_diseases.items():\n",
    "    print(f\"running {key}\")\n",
    "    before_running = time.time()\n",
    "    if len(value) == 1:\n",
    "        query = number_openaccess_query(keyword = value[0])\n",
    "    else:\n",
    "        query = number_openaccess_query(lst_keywords = value)\n",
    "\n",
    "    cursor = conn.cursor()\n",
    "    cursor.execute(query)\n",
    "    rows = cursor.fetchall()\n",
    "    after_running = time.time()\n",
    "    print(rows)\n",
    "    print(f\"Ran in {after_running - before_running} seconds\")\n",
    "\n",
    "\n",
    "#running all the diseases\n",
    "for key , value in dict_diseases.items():\n",
    "    print(f\"running {key}\")\n",
    "    before_running = time.time()\n",
    "    if len(value) == 1:\n",
    "        query = number_openaccess_query(keyword = value[0])\n",
    "    else:\n",
    "        query = number_openaccess_query(lst_keywords = value)\n",
    "\n",
    "    cursor = conn.cursor()\n",
    "    cursor.execute(query)\n",
    "    rows = cursor.fetchall()\n",
    "    after_running = time.time()\n",
    "    print(rows)\n",
    "    print(f\"Ran in {after_running - before_running} seconds\")\n",
    "\n",
    "\n",
    "# running Bronchitis\n",
    "# [('bronze', 2318), ('closed', 19377), ('diamond', 73), ('gold', 799), ('green', 823), ('hybrid', 307)]\n",
    "# Ran in 171.20797276496887 seconds\n",
    "# running Covid\n",
    "# [('bronze', 36200), ('closed', 48336), ('diamond', 8367), ('gold', 89188), ('green', 47462), ('hybrid', 41241)]\n",
    "# Ran in 468.01255202293396 seconds\n",
    "# running Alzheimer's\n",
    "# [('bronze', 22026), ('closed', 126549), ('diamond', 778), ('gold', 28870), ('green', 25735), ('hybrid', 17069)]\n",
    "# Ran in 420.55153822898865 seconds\n",
    "# running Diabetes\n",
    "# [('bronze', 70844), ('closed', 299767), ('diamond', 4496), ('gold', 65482), ('green', 29647), ('hybrid', 24049)]\n",
    "# Ran in 233.79336857795715 seconds\n",
    "# running Lymphoma\n",
    "# [('bronze', 45750), ('closed', 254411), ('diamond', 1491), ('gold', 25836), ('green', 15958), ('hybrid', 11436)]\n",
    "# Ran in 306.9700753688812 seconds\n",
    "# running Sarcoma\n",
    "# [('bronze', 16899), ('closed', 116311), ('diamond', 687), ('gold', 10469), ('green', 7668), ('hybrid', 3864)]\n",
    "# Ran in 111.91938781738281 seconds\n",
    "# running Liver Disease"
   ]
  }
 ],
 "metadata": {
  "kernelspec": {
   "display_name": "venv",
   "language": "python",
   "name": "python3"
  },
  "language_info": {
   "codemirror_mode": {
    "name": "ipython",
    "version": 3
   },
   "file_extension": ".py",
   "mimetype": "text/x-python",
   "name": "python",
   "nbconvert_exporter": "python",
   "pygments_lexer": "ipython3",
   "version": "3.12.10"
  }
 },
 "nbformat": 4,
 "nbformat_minor": 5
}
