{
 "cells": [
  {
   "cell_type": "markdown",
   "id": "cd235ec3",
   "metadata": {},
   "source": [
    "Desired Data:\n",
    "Author card:\n",
    "Author names\n",
    "Link to their profiles\n",
    "\n",
    "Discipline card:\n",
    "Discipline of disease\n",
    "Sentence summary of discipline\n",
    "Amount of publications\n",
    "Amount of institutions \n",
    "\n",
    "Dropdown:\n",
    "Heart disease\n",
    "Covid\n",
    "Alzheimer's\n",
    "Leukemia\n",
    "Diabetes\n",
    "Lymphoma\n",
    "Sarcoma\n",
    "Lung Cancer\n",
    "Bronchitis\n",
    "Liver Disease\n",
    "\n",
    "Top Journals:\n",
    "Top 5 Journals\n",
    "For each journal:\n",
    "Link to Journal\n",
    "Name of Journal\n",
    "Month and Year\n",
    "\n",
    "Plots:\n",
    "publications per year visualized\n",
    "Heatmap for overlapping disciplines\n",
    "Discipline network graph for authors\n",
    "Geospatial map of grant funding or places of publications\n",
    "model for likelihood of publication country based on citation owner, grant acronyms, place of publication, and anything else relevant\n",
    "graph of likelihood for discipline\n",
    "graph of origin of funding (grantid)\n",
    "graph of supplmentary_mesh_type, maybe something more learning based aswell\n",
    "graph of grant agency diversification over time\n",
    "\n",
    "\n"
   ]
  },
  {
   "cell_type": "code",
   "execution_count": 1,
   "id": "6b7411ac",
   "metadata": {},
   "outputs": [
    {
     "data": {
      "text/plain": [
       "True"
      ]
     },
     "execution_count": 1,
     "metadata": {},
     "output_type": "execute_result"
    }
   ],
   "source": [
    "import pandas , numpy\n",
    "import psycopg2\n",
    "from dotenv import load_dotenv\n",
    "import os\n",
    "\n",
    "load_dotenv()"
   ]
  },
  {
   "cell_type": "code",
   "execution_count": 2,
   "id": "b85e5b09",
   "metadata": {},
   "outputs": [],
   "source": [
    "#CONNECTING TO COMPANY DB\n",
    "db_name = \"pubmed\"\n",
    "user = os.getenv(\"user\")\n",
    "password = os.getenv(\"password\")\n",
    "host = os.getenv(\"host\")\n",
    "port = os.getenv(\"port\")"
   ]
  },
  {
   "cell_type": "code",
   "execution_count": 3,
   "id": "ac58e2fa",
   "metadata": {},
   "outputs": [
    {
     "data": {
      "text/plain": [
       "'pubmed'"
      ]
     },
     "execution_count": 3,
     "metadata": {},
     "output_type": "execute_result"
    }
   ],
   "source": [
    "db_name"
   ]
  },
  {
   "cell_type": "code",
   "execution_count": 4,
   "id": "7ad36baf",
   "metadata": {},
   "outputs": [],
   "source": [
    "conn = psycopg2.connect(f\"dbname ={db_name} user={user} password={password} host={host} port={port}\")"
   ]
  },
  {
   "cell_type": "code",
   "execution_count": null,
   "id": "6bf3b829",
   "metadata": {},
   "outputs": [],
   "source": [
    "def Data_Author_Card(disease_name):\n",
    "    \"\"\" \n",
    "    desired_data:\n",
    "    author name \n",
    "    link to authors profile\n",
    "    \"\"\"\n",
    "\n",
    "\n",
    "    pass"
   ]
  },
  {
   "cell_type": "code",
   "execution_count": null,
   "id": "171afbe8",
   "metadata": {},
   "outputs": [],
   "source": [
    "def Data_Top_Journals(disease_name):\n",
    "    \"\"\" \n",
    "    Desired data: \n",
    "    top journals for a given disease\n",
    "    \"\"\"\n",
    "    pass"
   ]
  },
  {
   "cell_type": "code",
   "execution_count": null,
   "id": "03136bf5",
   "metadata": {},
   "outputs": [],
   "source": [
    "def Data_Discipline(disease_name):\n",
    "    \"\"\" \n",
    "    Desired data:\n",
    "    Discipline of disease\n",
    "    Sentence summary of discipline\n",
    "    Amount of publications\n",
    "    Amount of institutions \n",
    "    \"\"\"\n",
    "    pass"
   ]
  },
  {
   "cell_type": "code",
   "execution_count": null,
   "id": "e4a32c1c",
   "metadata": {},
   "outputs": [],
   "source": [
    "def Data_Top_Articles(disease_name):\n",
    "    \"\"\" \n",
    "    Desired data:\n",
    "    top article for a given disease\n",
    "    Most cited article for any given discipline\n",
    "    \"\"\"\n",
    "    pass"
   ]
  },
  {
   "cell_type": "code",
   "execution_count": null,
   "id": "4295e771",
   "metadata": {},
   "outputs": [],
   "source": []
  },
  {
   "cell_type": "code",
   "execution_count": null,
   "id": "7df2eb11",
   "metadata": {},
   "outputs": [],
   "source": []
  },
  {
   "cell_type": "code",
   "execution_count": 6,
   "id": "1f3c4dc1",
   "metadata": {},
   "outputs": [],
   "source": [
    "lst_disease_names = [\"Heart disease\" , \"Covid\" , \"Alzheimer's\" , \"Leukemia\", \"Diabetes\", \"Lymphoma\", \"Sarcoma\", \"Lung Cancer\", \"Bronchitis\", \"Liver Disease\"]"
   ]
  },
  {
   "cell_type": "code",
   "execution_count": null,
   "id": "3c149957",
   "metadata": {},
   "outputs": [],
   "source": []
  },
  {
   "cell_type": "code",
   "execution_count": null,
   "id": "2fa7ff38",
   "metadata": {},
   "outputs": [],
   "source": []
  }
 ],
 "metadata": {
  "kernelspec": {
   "display_name": "venv",
   "language": "python",
   "name": "python3"
  },
  "language_info": {
   "codemirror_mode": {
    "name": "ipython",
    "version": 3
   },
   "file_extension": ".py",
   "mimetype": "text/x-python",
   "name": "python",
   "nbconvert_exporter": "python",
   "pygments_lexer": "ipython3",
   "version": "3.12.10"
  }
 },
 "nbformat": 4,
 "nbformat_minor": 5
}
