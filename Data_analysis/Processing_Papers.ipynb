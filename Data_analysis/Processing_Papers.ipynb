{
 "cells": [
  {
   "cell_type": "code",
   "execution_count": 1,
   "id": "c9584520",
   "metadata": {},
   "outputs": [],
   "source": [
    "import pandas , numpy\n",
    "import psycopg2\n",
    "from dotenv import load_dotenv\n",
    "import os\n",
    "import time"
   ]
  },
  {
   "cell_type": "code",
   "execution_count": 2,
   "id": "b44c1550",
   "metadata": {},
   "outputs": [
    {
     "data": {
      "text/plain": [
       "True"
      ]
     },
     "execution_count": 2,
     "metadata": {},
     "output_type": "execute_result"
    }
   ],
   "source": [
    "load_dotenv()"
   ]
  },
  {
   "cell_type": "code",
   "execution_count": 3,
   "id": "03fc8721",
   "metadata": {},
   "outputs": [],
   "source": [
    "#CONNECTING TO COMPANY DB\n",
    "db_name = \"OpenAlex\"\n",
    "user = os.getenv(\"user\")\n",
    "password = os.getenv(\"password\")\n",
    "host = os.getenv(\"host\")\n",
    "port = os.getenv(\"port\")"
   ]
  },
  {
   "cell_type": "code",
   "execution_count": 4,
   "id": "d7bf0a4e",
   "metadata": {},
   "outputs": [],
   "source": [
    "conn = psycopg2.connect(f\"dbname ={db_name} user={user} password={password} host={host} port={port}\")"
   ]
  },
  {
   "cell_type": "code",
   "execution_count": 5,
   "id": "8c37ef1d",
   "metadata": {},
   "outputs": [],
   "source": [
    "def Execute_query(query , keyword = None , lst_array_keywords = None):\n",
    "    \"\"\" \n",
    "    desired_data:\n",
    "    author name \n",
    "    link to authors profile\n",
    "    \"\"\"\n",
    "\n",
    "    cursor = conn.cursor()\n",
    "    if lst_array_keywords:\n",
    "        cursor.execute(query, (lst_array_keywords,))\n",
    "    elif keyword:\n",
    "        cursor.execute(query, keyword)\n",
    "    else:\n",
    "        cursor.execute(query)\n",
    "\n",
    "    rows = cursor.fetchall()\n",
    "    return rows"
   ]
  },
  {
   "cell_type": "code",
   "execution_count": 6,
   "id": "a86e8423",
   "metadata": {},
   "outputs": [],
   "source": [
    "dict_disease_names = {\n",
    "    \"Cancer\": [\n",
    "        '%cancer%', '%carcinoma%', '%malignancy%', '%neoplasm%',\n",
    "        '%tumor%', '%tumour%', '%malignant%', '%cancerous%'\n",
    "    ],\n",
    "    \"Heart disease\": [\n",
    "        '%heart disease%', '%cardiovascular%', '%cardiac%', '%coronary%',\n",
    "        '%myocardial%', '%angina%', '%congestive heart failure%',\n",
    "        '%ischemic heart disease%', '%cardiomyopathy%', '%arteriosclerosis%'\n",
    "    ],\n",
    "    \"Covid\": [\n",
    "        '%covid%', '%covid-19%', '%coronavirus%', '%sars-cov-2%',\n",
    "        '%2019-ncov%', '%novel coronavirus%', '%coronavirus disease 2019%',\n",
    "        '%hcov-19%', '%wuhan flu%'\n",
    "    ],\n",
    "    \"Alzheimer's\": [\n",
    "        '%alzheimer%', '%alzheimers%', '%alzheimer\\'s%', '%dementia%',\n",
    "        '%neurodegenerative%', '%memory loss%', '%cognitive decline%',\n",
    "        '%senile dementia%', '%presenile dementia%', '%AD%', '%EOAD%', '%YOAD%'\n",
    "    ],\n",
    "    \"Leukemia\": [\n",
    "        '%leukemia%', '%leukaemia%', '%blood cancer%', '%cancer of the blood%',\n",
    "        '%hematopoietic cancer%', '%acute leukemia%', '%chronic leukemia%',\n",
    "        '%lymphocytic leukemia%', '%myeloblastic leukemia%', '%granulocytic leukemia%',\n",
    "        '%monocytic leukemia%', '%histiocytic leukemia%', '%myeloid leukemia%'\n",
    "    ],\n",
    "    \"Diabetes\": [\n",
    "        '%diabetes%', '%diabetes mellitus%', '%diabetes insipidus%',\n",
    "        '%type 1 diabetes%', '%type 2 diabetes%', '%juvenile-onset diabetes%',\n",
    "        '%adult-onset diabetes%', '%insulin-dependent diabetes%', '%non-insulin-dependent diabetes%',\n",
    "        '%hyperglycemia%', '%high blood sugar%', '%glucose dysregulation%', '%dm%'\n",
    "    ],\n",
    "    \"Lymphoma\": [\n",
    "        '%lymphoma%', '%lymphomata%', '%Hodgkin%', '%non-Hodgkin%',\n",
    "        '%Hodgkin\\'s disease%', '%lymphatic malignancy%', '%B-cell lymphoma%',\n",
    "        '%T-cell lymphoma%', '%follicular lymphoma%', '%Burkitt\\'s lymphoma%',\n",
    "        '%lymphosarcoma%', '%lymphatic neoplasm%'\n",
    "    ],\n",
    "    \"Sarcoma\": [\n",
    "        '%sarcoma%', '%sarcomas%', '%soft tissue sarcoma%', '%bone sarcoma%',\n",
    "        '%mesenchymal tumor%', '%liposarcoma%', '%leiomyosarcoma%', '%chondrosarcoma%',\n",
    "        '%Ewing\\'s sarcoma%', '%Kaposi\\'s sarcoma%', '%osteosarcoma%',\n",
    "        '%rhabdomyosarcoma%', '%fibrosarcoma%'\n",
    "    ],\n",
    "    \"Lung Cancer\": [\n",
    "        '%lung cancer%', '%lung carcinoma%', '%bronchogenic carcinoma%',\n",
    "        '%pulmonary carcinoma%', '%non-small cell lung cancer%', '%NSCLC%',\n",
    "        '%small cell lung cancer%', '%SCLC%', '%pulmonary neoplasm%',\n",
    "        '%bronchial carcinoma%', '%adenocarcinoma of lung%',\n",
    "        '%squamous cell carcinoma of lung%', '%large cell lung carcinoma%'\n",
    "    ],\n",
    "    \"Bronchitis\": [\n",
    "        '%bronchitis%', '%acute bronchitis%', '%chronic bronchitis%',\n",
    "        '%bronchiolitis%', '%bronchial inflammation%', '%inflammation of bronchi%',\n",
    "        '%respiratory infection%', '%chest cold%', '%bronchial infection%',\n",
    "        '%cough%', '%bronchospasm%', '%bronchial illness%', '%chest infection%'\n",
    "    ],\n",
    "    \"Liver Disease\": [\n",
    "        '%liver disease%', '%hepatic disease%', '%liver disorder%', '%hepatic disorder%',\n",
    "        '%liver dysfunction%', '%hepatic dysfunction%', '%liver failure%',\n",
    "        '%hepatic insufficiency%', '%cirrhosis%', '%hepatitis%', '%fatty liver%',\n",
    "        '%hepatic steatosis%', '%non-alcoholic fatty liver disease%', '%NAFLD%',\n",
    "        '%alcoholic liver disease%', '%MASLD%', '%cholestasis%'\n",
    "    ]\n",
    "}"
   ]
  },
  {
   "cell_type": "code",
   "execution_count": null,
   "id": "b5121b89",
   "metadata": {},
   "outputs": [],
   "source": [
    "#getting the top 5 authors\n",
    "query = \"\"\"\n",
    "WITH cancer_related_mesh AS (\n",
    "    SELECT DISTINCT work_id\n",
    "    FROM works_mesh\n",
    "    WHERE descriptor_name ILIKE ANY (ARRAY['%cancer%', '%carcinoma%', '%malignancy%', '%neoplasm%', '%tumor%', '%tumour%', '%malignant%', '%cancerous%'])\n",
    ")\n",
    "SELECT\n",
    "    wa.author_id,\n",
    "    wa.author_display_name,\n",
    "    COUNT(DISTINCT w.id) AS works_count,\n",
    "    COALESCE(SUM(w.cited_by_count), 0) AS total_citations\n",
    "FROM works w\n",
    "JOIN cancer_related_mesh crm ON w.id = crm.work_id\n",
    "JOIN works_authorships wa ON w.id = wa.work_id\n",
    "GROUP BY\n",
    "    wa.author_id,\n",
    "    wa.author_display_name\n",
    "ORDER BY\n",
    "    total_citations DESC\n",
    "LIMIT 5;\n",
    "\"\"\"\n"
   ]
  },
  {
   "cell_type": "code",
   "execution_count": 8,
   "id": "9c0b7999",
   "metadata": {},
   "outputs": [
    {
     "name": "stdout",
     "output_type": "stream",
     "text": [
      "[('https://openalex.org/A5088652438', 'Saman Warnakulasuriya', 80, Decimal('8816')), ('https://openalex.org/A5112869712', 'Pelayo Correa', 45, Decimal('7000')), ('https://openalex.org/A5017681840', 'B C Morson', 21, Decimal('6439')), ('https://openalex.org/A5016235730', 'Vassilis G. Gorgoulis', 10, Decimal('6393')), ('https://openalex.org/A5055130061', 'Christopher P. Crum', 46, Decimal('6211'))]\n"
     ]
    }
   ],
   "source": [
    "cursor = conn.cursor()\n",
    "cursor.execute(query)\n",
    "#cursor.execute(query , ([\"%cancer%\"],))\n",
    "\n",
    "rows = cursor.fetchall()\n",
    "print(rows)"
   ]
  },
  {
   "cell_type": "code",
   "execution_count": null,
   "id": "00e06db2",
   "metadata": {},
   "outputs": [
    {
     "data": {
      "text/plain": [
       "[('https://openalex.org/A5005301563', 'Alfonso Martin Bernabé', 1, None),\n",
       " ('https://openalex.org/A5007848067', 'Anne-Marie Waser', 1, None),\n",
       " ('https://openalex.org/A5011961771', 'Mathieu Balaguer', 1, None),\n",
       " ('https://openalex.org/A5013101884', 'Jérôme Farinas', 1, None),\n",
       " ('https://openalex.org/A5004327919', 'Christine Le Clainche', 1, None)]"
      ]
     },
     "execution_count": 9,
     "metadata": {},
     "output_type": "execute_result"
    }
   ],
   "source": [
    "[('https://openalex.org/A5000036388', 'Raymond K. H. Chan', 1, None), ('https://openalex.org/A5000014365', 'Ha Huu Phuoc Dang', 1, None), ('https://openalex.org/A5000022739', 'Marta Gazzaneo', 1, None), ('https://openalex.org/A5000001644', 'Z Pilawski', 1, None), ('https://openalex.org/A5000036901', 'Nicola Creighton', 1, None)]\n",
    "[('https://openalex.org/A5005301563', 'Alfonso Martin Bernabé', 1, None), ('https://openalex.org/A5007848067', 'Anne-Marie Waser', 1, None), ('https://openalex.org/A5011961771', 'Mathieu Balaguer', 1, None), ('https://openalex.org/A5013101884', 'Jérôme Farinas', 1, None), ('https://openalex.org/A5004327919', 'Christine Le Clainche', 1, None)]\n",
    "\n",
    "\n",
    "\n",
    "[('https://openalex.org/A5088652438', 'Saman Warnakulasuriya', 80, Decimal('8816')), ('https://openalex.org/A5112869712', 'Pelayo Correa', 45, Decimal('7000')), ('https://openalex.org/A5017681840', 'B C Morson', 21, Decimal('6439')), ('https://openalex.org/A5016235730', 'Vassilis G. Gorgoulis', 10, Decimal('6393')), ('https://openalex.org/A5055130061', 'Christopher P. Crum', 46, Decimal('6211'))]"
   ]
  },
  {
   "cell_type": "code",
   "execution_count": null,
   "id": "86969c97",
   "metadata": {},
   "outputs": [],
   "source": []
  },
  {
   "cell_type": "code",
   "execution_count": null,
   "id": "377f41cb",
   "metadata": {},
   "outputs": [],
   "source": []
  }
 ],
 "metadata": {
  "kernelspec": {
   "display_name": "venv",
   "language": "python",
   "name": "python3"
  },
  "language_info": {
   "codemirror_mode": {
    "name": "ipython",
    "version": 3
   },
   "file_extension": ".py",
   "mimetype": "text/x-python",
   "name": "python",
   "nbconvert_exporter": "python",
   "pygments_lexer": "ipython3",
   "version": "3.12.10"
  }
 },
 "nbformat": 4,
 "nbformat_minor": 5
}
