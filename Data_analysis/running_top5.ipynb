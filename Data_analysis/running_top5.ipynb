{
 "cells": [
  {
   "cell_type": "code",
   "execution_count": null,
   "id": "96c35072",
   "metadata": {},
   "outputs": [],
   "source": [
    "import pandas , numpy\n",
    "import psycopg2\n",
    "from dotenv import load_dotenv\n",
    "import os\n",
    "import time"
   ]
  },
  {
   "cell_type": "code",
   "execution_count": null,
   "id": "24afd4ea",
   "metadata": {},
   "outputs": [],
   "source": [
    "load_dotenv()"
   ]
  },
  {
   "cell_type": "code",
   "execution_count": null,
   "id": "a313055c",
   "metadata": {},
   "outputs": [],
   "source": [
    "#CONNECTING TO COMPANY DB\n",
    "db_name = \"OpenAlex\"\n",
    "user = os.getenv(\"user\")\n",
    "password = os.getenv(\"password\")\n",
    "host = os.getenv(\"host\")\n",
    "port = os.getenv(\"port\")"
   ]
  },
  {
   "cell_type": "code",
   "execution_count": null,
   "id": "a022603a",
   "metadata": {},
   "outputs": [],
   "source": [
    "conn = psycopg2.connect(f\"dbname ={db_name} user={user} password={password} host={host} port={port}\")"
   ]
  },
  {
   "cell_type": "code",
   "execution_count": null,
   "id": "5a1cd6c9",
   "metadata": {},
   "outputs": [],
   "source": [
    "#getting top 5 papers for each field\n",
    "#sarcoma\n",
    "query = \"\"\"\n",
    "WITH sarcoma_related_mesh AS (\n",
    "    SELECT DISTINCT work_id\n",
    "    FROM works_mesh wm\n",
    "    WHERE wm.descriptor_name ILIKE '%sarcoma%'\n",
    ")\n",
    "SELECT\n",
    "    w.id AS work_id,\n",
    "    w.title,\n",
    "    w.cited_by_count\n",
    "FROM works w\n",
    "JOIN sarcoma_related_mesh srm ON w.id = srm.work_id\n",
    "WHERE w.cited_by_count IS NOT NULL\n",
    "ORDER BY\n",
    "    w.cited_by_count DESC\n",
    "LIMIT 5;\n",
    "\"\"\""
   ]
  },
  {
   "cell_type": "code",
   "execution_count": null,
   "id": "00ae3e3f",
   "metadata": {},
   "outputs": [],
   "source": [
    "# cursor = conn.cursor()\n",
    "# cursor.execute(query)\n",
    "# #cursor.execute(query , ([\"%cancer%\"],))\n",
    "# rows = cursor.fetchall()\n",
    "# print(rows)\n",
    "#[('https://openalex.org/W2126930838', 'Quantifying heterogeneity in a meta‐analysis', Decimal('31864')), ('https://openalex.org/W2032438721', \"Identification of Herpesvirus-Like DNA Sequences in AIDS-Sssociated Kaposi's Sarcoma\", Decimal('5650')), ('https://openalex.org/W2057123987', 'An endotoxin-induced serum factor that causes necrosis of tumors.', Decimal('4539')), ('https://openalex.org/W2014495927', 'Direct Gene Transfer into Mouse Muscle in Vivo', Decimal('4025')), ('https://openalex.org/W2012108057', 'Platinum Compounds: a New Class of Potent Antitumour Agents', Decimal('3802'))]\n"
   ]
  },
  {
   "cell_type": "code",
   "execution_count": null,
   "id": "1f2b2e01",
   "metadata": {},
   "outputs": [],
   "source": [
    "#getting top 5 papers for each field\n",
    "#bronchitis\n",
    "query = \"\"\"\n",
    "WITH sarcoma_related_mesh AS (\n",
    "    SELECT DISTINCT work_id\n",
    "    FROM works_mesh wm\n",
    "    WHERE wm.descriptor_name ILIKE '%bronchitis%'\n",
    ")\n",
    "SELECT\n",
    "    w.id AS work_id,\n",
    "    w.title,\n",
    "    w.cited_by_count\n",
    "FROM works w\n",
    "JOIN sarcoma_related_mesh srm ON w.id = srm.work_id\n",
    "WHERE w.cited_by_count IS NOT NULL\n",
    "ORDER BY\n",
    "    w.cited_by_count DESC\n",
    "LIMIT 5;\n",
    "\"\"\""
   ]
  },
  {
   "cell_type": "code",
   "execution_count": null,
   "id": "7183dbc5",
   "metadata": {},
   "outputs": [],
   "source": [
    "cursor = conn.cursor()\n",
    "cursor.execute(query)\n",
    "#cursor.execute(query , ([\"%cancer%\"],))\n",
    "rows = cursor.fetchall()\n",
    "print(rows)\n",
    "#[('https://openalex.org/W1969235931', 'INFANT MORTALITY, CHILDHOOD NUTRITION, AND ISCHAEMIC HEART DISEASE IN ENGLAND AND WALES', Decimal('2753')), ('https://openalex.org/W2136464549', 'Estimating regression models with unknown break‐points', Decimal('1903')), ('https://openalex.org/W2319554819', 'Site and Nature of Airway Obstruction in Chronic Obstructive Lung Disease', Decimal('1363')), ('https://openalex.org/W1983538981', 'A Human Syndrome Caused by Immotile Cilia', Decimal('1248')), ('https://openalex.org/W2039252747', 'Mast-Cell Infiltration of Airway Smooth Muscle in Asthma', Decimal('1230'))]\n"
   ]
  },
  {
   "cell_type": "code",
   "execution_count": null,
   "id": "2679f42b",
   "metadata": {},
   "outputs": [],
   "source": [
    "#diabetes\n",
    "#ANY(ARRAY['%diabetes%' , '%hyperglycemia%'])\n",
    "query = \"\"\"\n",
    "WITH sarcoma_related_mesh AS (\n",
    "    SELECT DISTINCT work_id\n",
    "    FROM works_mesh wm\n",
    "    WHERE wm.descriptor_name ILIKE ANY(ARRAY['%diabetes%' , '%hyperglycemia%'])\n",
    ")\n",
    "SELECT\n",
    "    w.id AS work_id,\n",
    "    w.title,\n",
    "    w.cited_by_count\n",
    "FROM works w\n",
    "JOIN sarcoma_related_mesh srm ON w.id = srm.work_id\n",
    "WHERE w.cited_by_count IS NOT NULL\n",
    "ORDER BY\n",
    "    w.cited_by_count DESC\n",
    "LIMIT 5;\n",
    "\"\"\""
   ]
  },
  {
   "cell_type": "code",
   "execution_count": null,
   "id": "bd3cd7b3",
   "metadata": {},
   "outputs": [],
   "source": [
    "cursor = conn.cursor()\n",
    "cursor.execute(query)\n",
    "#cursor.execute(query , ([\"%cancer%\"],))\n",
    "rows = cursor.fetchall()\n",
    "print(rows)\n",
    "#[('https://openalex.org/W2160234571', 'Homeostasis model assessment: insulin resistance and ?-cell function from fasting plasma glucose and insulin concentrations in man', Decimal('30015')), ('https://openalex.org/W3009885589', 'Clinical course and risk factors for mortality of adult inpatients with COVID-19 in Wuhan, China: a retrospective cohort study', Decimal('27679')), ('https://openalex.org/W2769264260', 'The Effect of Intensive Treatment of Diabetes on the Development and Progression of Long-Term Complications in Insulin-Dependent Diabetes Mellitus', Decimal('23731')), ('https://openalex.org/W2427094903', '2016 ESC Guidelines for the diagnosis and treatment of acute and chronic heart failure', Decimal('19131')), ('https://openalex.org/W2158822657', 'Reduction in the Incidence of Type 2 Diabetes with Lifestyle Intervention or Metformin', Decimal('18281'))]"
   ]
  },
  {
   "cell_type": "code",
   "execution_count": null,
   "id": "b9084832",
   "metadata": {},
   "outputs": [],
   "source": [
    "#lymphoma\n",
    "#ANY(ARRAY['%lymphoma%' , '%Hodgkin%' , '%lymphatic%'])\n",
    "query = \"\"\"\n",
    "WITH sarcoma_related_mesh AS (\n",
    "    SELECT DISTINCT work_id\n",
    "    FROM works_mesh wm\n",
    "    WHERE wm.descriptor_name ILIKE ANY(ARRAY['%lymphoma%' , '%Hodgkin%' , '%lymphatic%'])\n",
    ")\n",
    "SELECT\n",
    "    w.id AS work_id,\n",
    "    w.title,\n",
    "    w.cited_by_count\n",
    "FROM works w\n",
    "JOIN sarcoma_related_mesh srm ON w.id = srm.work_id\n",
    "WHERE w.cited_by_count IS NOT NULL\n",
    "ORDER BY\n",
    "    w.cited_by_count DESC\n",
    "LIMIT 5;\n",
    "\"\"\""
   ]
  },
  {
   "cell_type": "code",
   "execution_count": null,
   "id": "9f270258",
   "metadata": {},
   "outputs": [],
   "source": [
    "cursor = conn.cursor()\n",
    "cursor.execute(query)\n",
    "#cursor.execute(query , ([\"%cancer%\"],))\n",
    "rows = cursor.fetchall()\n",
    "print(rows)\n",
    "#[('https://openalex.org/W2114918609', 'Rapid colorimetric assay for cellular growth and survival: Application to proliferation and cytotoxicity assays', Decimal('53330')), ('https://openalex.org/W2130410032', 'Gene set enrichment analysis: A knowledge-based approach for interpreting genome-wide expression profiles', Decimal('45777')), ('https://openalex.org/W2572174216', 'Adverse Renal Effects of Immune Checkpoint Inhibitors: A Narrative Review', Decimal('14988')), ('https://openalex.org/W2109363337', 'Molecular Classification of Cancer: Class Discovery and Class Prediction by Gene Expression Monitoring', Decimal('11623')), ('https://openalex.org/W2159707944', 'GSVA: gene set variation analysis for microarray and RNA-Seq data', Decimal('10849'))]"
   ]
  },
  {
   "cell_type": "code",
   "execution_count": null,
   "id": "20f9923a",
   "metadata": {},
   "outputs": [],
   "source": [
    "#covid \n",
    "#ANY(ARRAY['%covid%', '%coronavirus%', '%sars-cov-2%', '%2019-ncov%'])\n",
    "query = \"\"\"\n",
    "WITH sarcoma_related_mesh AS (\n",
    "    SELECT DISTINCT work_id\n",
    "    FROM works_mesh wm\n",
    "    WHERE wm.descriptor_name ILIKE ANY(ARRAY['%alzheimer%', '%dementia%', '%neurodegenerative%'])\n",
    ")\n",
    "SELECT\n",
    "    w.id AS work_id,\n",
    "    w.title,\n",
    "    w.cited_by_count\n",
    "FROM works w\n",
    "JOIN sarcoma_related_mesh srm ON w.id = srm.work_id\n",
    "WHERE w.cited_by_count IS NOT NULL\n",
    "ORDER BY\n",
    "    w.cited_by_count DESC\n",
    "LIMIT 5;\n",
    "\"\"\""
   ]
  },
  {
   "cell_type": "code",
   "execution_count": null,
   "id": "4b89b12e",
   "metadata": {},
   "outputs": [],
   "source": [
    "cursor = conn.cursor()\n",
    "cursor.execute(query)\n",
    "#cursor.execute(query , ([\"%cancer%\"],))\n",
    "rows = cursor.fetchall()\n",
    "print(rows)\n",
    "#[('https://openalex.org/W3001118548', 'Clinical features of patients infected with 2019 novel coronavirus in Wuhan, China', Decimal('49402')), ('https://openalex.org/W3008827533', 'Clinical Characteristics of Coronavirus Disease 2019 in China', Decimal('28935')), ('https://openalex.org/W3001897055', 'A Novel Coronavirus from Patients with Pneumonia in China, 2019', Decimal('28837')), ('https://openalex.org/W3009885589', 'Clinical course and risk factors for mortality of adult inpatients with COVID-19 in Wuhan, China: a retrospective cohort study', Decimal('27679')), ('https://openalex.org/W3004280078', 'A pneumonia outbreak associated with a new coronavirus of probable bat origin', Decimal('22024'))]"
   ]
  },
  {
   "cell_type": "code",
   "execution_count": null,
   "id": "ac75e2cc",
   "metadata": {},
   "outputs": [],
   "source": [
    "#cancer\n",
    "#ANY(ARRAY['%cancer%', '%carcinoma%', '%neoplasm%', '%tumor%', '%malignant%'])\n",
    "query = \"\"\"\n",
    "WITH sarcoma_related_mesh AS (\n",
    "    SELECT DISTINCT work_id\n",
    "    FROM works_mesh wm\n",
    "    WHERE wm.descriptor_name ILIKE ANY(ARRAY['%cancer%', '%carcinoma%', '%neoplasm%', '%tumor%', '%malignant%'])\n",
    ")\n",
    "SELECT\n",
    "    w.id AS work_id,\n",
    "    w.title,\n",
    "    w.cited_by_count\n",
    "FROM works w\n",
    "JOIN sarcoma_related_mesh srm ON w.id = srm.work_id\n",
    "WHERE w.cited_by_count IS NOT NULL\n",
    "ORDER BY\n",
    "    w.cited_by_count DESC\n",
    "LIMIT 5;\n",
    "\"\"\""
   ]
  },
  {
   "cell_type": "code",
   "execution_count": null,
   "id": "2646a97c",
   "metadata": {},
   "outputs": [],
   "source": [
    "# cursor = conn.cursor()\n",
    "# cursor.execute(query)\n",
    "# #cursor.execute(query , ([\"%cancer%\"],))\n",
    "# rows = cursor.fetchall()\n",
    "# print(rows)"
   ]
  },
  {
   "cell_type": "code",
   "execution_count": null,
   "id": "4d191f25",
   "metadata": {},
   "outputs": [],
   "source": [
    "#heart\n",
    "#ANY(ARRAY['%heart%','%cardiovascular%','%cardiac%','%coronary%','%myocardial%',\n",
    "    #'%angina%','%cardiomyopathy%','%arteriosclerosis%'])\n",
    "query = \"\"\"\n",
    "WITH sarcoma_related_mesh AS (\n",
    "    SELECT DISTINCT work_id\n",
    "    FROM works_mesh wm\n",
    "    WHERE wm.descriptor_name ILIKE ANY(ARRAY['%heart%','%cardiovascular%','%cardiac%','%coronary%','%myocardial%',\n",
    "    #'%angina%','%cardiomyopathy%','%arteriosclerosis%'])\n",
    ")\n",
    "SELECT\n",
    "    w.id AS work_id,\n",
    "    w.title,\n",
    "    w.cited_by_count\n",
    "FROM works w\n",
    "JOIN sarcoma_related_mesh srm ON w.id = srm.work_id\n",
    "WHERE w.cited_by_count IS NOT NULL\n",
    "ORDER BY\n",
    "    w.cited_by_count DESC\n",
    "LIMIT 5;\n",
    "\"\"\""
   ]
  },
  {
   "cell_type": "code",
   "execution_count": null,
   "id": "0436eb57",
   "metadata": {},
   "outputs": [],
   "source": [
    "cursor = conn.cursor()\n",
    "cursor.execute(query)\n",
    "#cursor.execute(query , ([\"%cancer%\"],))\n",
    "rows = cursor.fetchall()\n",
    "print(rows)"
   ]
  },
  {
   "cell_type": "code",
   "execution_count": null,
   "id": "bb8a3965",
   "metadata": {},
   "outputs": [],
   "source": [
    "query = \"\"\"\n",
    "WITH sarcoma_related_mesh AS (\n",
    "    SELECT DISTINCT work_id\n",
    "    FROM works_mesh wm\n",
    "    WHERE wm.descriptor_name ILIKE ANY(ARRAY['%liver%','%hepatic%','%cirrhosis%','%hepatitis%','%cholestasis%'])\n",
    ")\n",
    "SELECT\n",
    "    w.id AS work_id,\n",
    "    w.title,\n",
    "    w.cited_by_count\n",
    "FROM works w\n",
    "JOIN sarcoma_related_mesh srm ON w.id = srm.work_id\n",
    "WHERE w.cited_by_count IS NOT NULL\n",
    "ORDER BY\n",
    "    w.cited_by_count DESC\n",
    "LIMIT 5;\n",
    "\"\"\""
   ]
  },
  {
   "cell_type": "code",
   "execution_count": null,
   "id": "858216fc",
   "metadata": {},
   "outputs": [],
   "source": [
    "cursor = conn.cursor()\n",
    "cursor.execute(query)\n",
    "#cursor.execute(query , ([\"%cancer%\"],))\n",
    "rows = cursor.fetchall()\n",
    "print(rows)"
   ]
  },
  {
   "cell_type": "code",
   "execution_count": null,
   "id": "04b151b7",
   "metadata": {},
   "outputs": [],
   "source": []
  }
 ],
 "metadata": {
  "kernelspec": {
   "display_name": "venv",
   "language": "python",
   "name": "python3"
  },
  "language_info": {
   "codemirror_mode": {
    "name": "ipython",
    "version": 3
   },
   "file_extension": ".py",
   "mimetype": "text/x-python",
   "name": "python",
   "nbconvert_exporter": "python",
   "pygments_lexer": "ipython3",
   "version": "3.12.10"
  }
 },
 "nbformat": 4,
 "nbformat_minor": 5
}
