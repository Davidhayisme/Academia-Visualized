{
 "cells": [
  {
   "cell_type": "code",
   "execution_count": 1,
   "id": "223664cb",
   "metadata": {},
   "outputs": [],
   "source": [
    "import pandas , numpy\n",
    "import psycopg2\n",
    "from dotenv import load_dotenv\n",
    "import os\n",
    "import time"
   ]
  },
  {
   "cell_type": "code",
   "execution_count": 2,
   "id": "5bbb3bcf",
   "metadata": {},
   "outputs": [
    {
     "data": {
      "text/plain": [
       "True"
      ]
     },
     "execution_count": 2,
     "metadata": {},
     "output_type": "execute_result"
    }
   ],
   "source": [
    "load_dotenv()"
   ]
  },
  {
   "cell_type": "code",
   "execution_count": 3,
   "id": "fb092810",
   "metadata": {},
   "outputs": [],
   "source": [
    "#CONNECTING TO COMPANY DB\n",
    "db_name = \"OpenAlex\"\n",
    "user = os.getenv(\"user\")\n",
    "password = os.getenv(\"password\")\n",
    "host = os.getenv(\"host\")\n",
    "port = os.getenv(\"port\")"
   ]
  },
  {
   "cell_type": "code",
   "execution_count": 4,
   "id": "d9862998",
   "metadata": {},
   "outputs": [],
   "source": [
    "conn = psycopg2.connect(f\"dbname ={db_name} user={user} password={password} host={host} port={port}\")"
   ]
  },
  {
   "cell_type": "code",
   "execution_count": 5,
   "id": "bfb48aa7",
   "metadata": {},
   "outputs": [],
   "source": [
    "#getting top 5 papers for each field\n",
    "#bronchitis\n",
    "query = \"\"\"\n",
    "WITH sarcoma_related_mesh AS (\n",
    "    SELECT DISTINCT work_id\n",
    "    FROM works_mesh wm\n",
    "    WHERE wm.descriptor_name ILIKE '%bronchitis%'\n",
    ")\n",
    "SELECT\n",
    "    w.id AS work_id,\n",
    "    w.title,\n",
    "    w.cited_by_count\n",
    "FROM works w\n",
    "JOIN sarcoma_related_mesh srm ON w.id = srm.work_id\n",
    "WHERE w.cited_by_count IS NOT NULL\n",
    "ORDER BY\n",
    "    w.cited_by_count DESC\n",
    "LIMIT 5;\n",
    "\"\"\""
   ]
  },
  {
   "cell_type": "code",
   "execution_count": 6,
   "id": "8a6c7635",
   "metadata": {},
   "outputs": [],
   "source": [
    "# cursor = conn.cursor()\n",
    "# cursor.execute(query)\n",
    "# #cursor.execute(query , ([\"%cancer%\"],))\n",
    "# rows = cursor.fetchall()\n",
    "# print(rows)"
   ]
  },
  {
   "cell_type": "code",
   "execution_count": null,
   "id": "d16a6177",
   "metadata": {},
   "outputs": [],
   "source": [
    "dict_diseases = {\n",
    "'Diabetes': ['%diabetes%', '%hyperglycemia%'],\n",
    " 'Lymphoma': ['%lymphoma%', '%Hodgkin%', '%lymphatic%'],\n",
    " 'Sarcoma': ['%sarcoma%'],\n",
    "'Cancer': ['%cancer%', '%carcinoma%', '%neoplasm%', '%tumor%', '%malignant%']}"
   ]
  },
  {
   "cell_type": "code",
   "execution_count": 8,
   "id": "cdac37a4",
   "metadata": {},
   "outputs": [],
   "source": [
    "def number_authors_query(keyword = None, lst_keywords = None):\n",
    "    if keyword:\n",
    "        query = f\"\"\"\n",
    "            WITH sarcoma_related_mesh AS (\n",
    "                SELECT DISTINCT work_id\n",
    "                FROM works_mesh wm\n",
    "                WHERE wm.descriptor_name ILIKE '{keyword}' \n",
    "            )\n",
    "            SELECT\n",
    "                COUNT(DISTINCT wa.author_id) AS unique_author_count\n",
    "            FROM works w\n",
    "            JOIN sarcoma_related_mesh srm ON w.id = srm.work_id\n",
    "            JOIN works_authorships wa ON w.id = wa.work_id;\n",
    "            \"\"\"\n",
    "    else:\n",
    "        formatted_keywords = \", \".join([f\"'{kw}'\" for kw in lst_keywords])\n",
    "        query = f\"\"\"\n",
    "            WITH sarcoma_related_mesh AS (\n",
    "                SELECT DISTINCT work_id\n",
    "                FROM works_mesh wm\n",
    "                WHERE wm.descriptor_name ILIKE ANY(ARRAY[{formatted_keywords}])\n",
    "            )\n",
    "            SELECT\n",
    "                COUNT(DISTINCT wa.author_id) AS unique_author_count\n",
    "            FROM works w\n",
    "            JOIN sarcoma_related_mesh srm ON w.id = srm.work_id\n",
    "            JOIN works_authorships wa ON w.id = wa.work_id;\n",
    "            \"\"\"\n",
    "    return query"
   ]
  },
  {
   "cell_type": "code",
   "execution_count": null,
   "id": "bd81e697",
   "metadata": {},
   "outputs": [
    {
     "name": "stdout",
     "output_type": "stream",
     "text": [
      "running Lymphoma\n"
     ]
    }
   ],
   "source": [
    "#running all the diseases\n",
    "for key , value in dict_diseases.items():\n",
    "    print(f\"running {key}\")\n",
    "    before_running = time.time()\n",
    "    if len(value) == 1:\n",
    "        query = number_authors_query(keyword = value[0])\n",
    "    else:\n",
    "        query = number_authors_query(lst_keywords = value)\n",
    "\n",
    "    cursor = conn.cursor()\n",
    "    cursor.execute(query)\n",
    "    rows = cursor.fetchall()\n",
    "    after_running = time.time()\n",
    "    print(rows)\n",
    "    print(f\"Ran in {after_running - before_running} seconds\")\n",
    "#ready\n",
    "# True\n",
    "# running Bronchitis\n",
    "# [(53937,)]\n",
    "# Ran in 819.9056537151337 seconds\n",
    "# running Covid\n",
    "# [(1075978,)]\n",
    "# Ran in 1213.0744411945343 seconds\n",
    "# running Alzheimer's\n",
    "# [(469147,)]\n",
    "# Ran in 1143.001962184906 seconds\n",
    "# running Diabetes"
   ]
  },
  {
   "cell_type": "code",
   "execution_count": null,
   "id": "22b493b2",
   "metadata": {},
   "outputs": [],
   "source": [
    "# query = \"\"\"\n",
    "#         WITH sarcoma_related_mesh AS (\n",
    "#             SELECT DISTINCT work_id\n",
    "#             FROM works_mesh wm\n",
    "#             WHERE wm.descriptor_name ILIKE '%sarcoma%'\n",
    "#         )\n",
    "#         SELECT\n",
    "#             COUNT(DISTINCT wa.author_id) AS unique_author_count\n",
    "#         FROM works w\n",
    "#         JOIN sarcoma_related_mesh srm ON w.id = srm.work_id\n",
    "#         JOIN works_authorships wa ON w.id = wa.work_id;\n",
    "#         \"\"\""
   ]
  },
  {
   "cell_type": "code",
   "execution_count": null,
   "id": "205df160",
   "metadata": {},
   "outputs": [],
   "source": [
    "# cursor = conn.cursor()\n",
    "# cursor.execute(query)\n",
    "# rows = cursor.fetchall()\n",
    "# print(rows)\n",
    "# #394603"
   ]
  },
  {
   "cell_type": "code",
   "execution_count": null,
   "id": "dd992354",
   "metadata": {},
   "outputs": [],
   "source": []
  }
 ],
 "metadata": {
  "kernelspec": {
   "display_name": "venv",
   "language": "python",
   "name": "python3"
  },
  "language_info": {
   "codemirror_mode": {
    "name": "ipython",
    "version": 3
   },
   "file_extension": ".py",
   "mimetype": "text/x-python",
   "name": "python",
   "nbconvert_exporter": "python",
   "pygments_lexer": "ipython3",
   "version": "3.12.10"
  }
 },
 "nbformat": 4,
 "nbformat_minor": 5
}
