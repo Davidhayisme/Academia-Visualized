{
 "cells": [
  {
   "cell_type": "code",
   "execution_count": null,
   "id": "9bed14b9",
   "metadata": {},
   "outputs": [],
   "source": [
    "import pandas , numpy\n",
    "import psycopg2\n",
    "from dotenv import load_dotenv\n",
    "import os\n",
    "import time"
   ]
  },
  {
   "cell_type": "code",
   "execution_count": null,
   "id": "3c802525",
   "metadata": {},
   "outputs": [],
   "source": [
    "load_dotenv()"
   ]
  },
  {
   "cell_type": "code",
   "execution_count": null,
   "id": "6bc23736",
   "metadata": {},
   "outputs": [],
   "source": [
    "#CONNECTING TO COMPANY DB\n",
    "db_name = \"OpenAlex\"\n",
    "user = os.getenv(\"user\")\n",
    "password = os.getenv(\"password\")\n",
    "host = os.getenv(\"host\")\n",
    "port = os.getenv(\"port\")"
   ]
  },
  {
   "cell_type": "code",
   "execution_count": null,
   "id": "7eaee1c9",
   "metadata": {},
   "outputs": [],
   "source": [
    "conn = psycopg2.connect(f\"dbname ={db_name} user={user} password={password} host={host} port={port}\")"
   ]
  },
  {
   "cell_type": "code",
   "execution_count": null,
   "id": "7ed9610d",
   "metadata": {},
   "outputs": [],
   "source": [
    "# #getting top 5 papers for each field\n",
    "# #bronchitis\n",
    "# query = \"\"\"\n",
    "# WITH bronchitis_works AS (\n",
    "#     SELECT DISTINCT w.id\n",
    "#     FROM works w\n",
    "#     JOIN works_mesh wm ON w.id = wm.work_id\n",
    "#     WHERE wm.descriptor_name ILIKE '%bronchitis%'\n",
    "# )\n",
    "# SELECT\n",
    "#     pl.source_display_name AS journal_name,\n",
    "#     COUNT(DISTINCT bw.id) AS num_publications\n",
    "# FROM bronchitis_works bw\n",
    "# JOIN works_locations pl ON bw.id = pl.work_id\n",
    "# WHERE pl.source_type = 'journal'\n",
    "# GROUP BY\n",
    "#     pl.source_display_name\n",
    "# ORDER BY\n",
    "#     num_publications DESC\n",
    "# LIMIT 5;\n",
    "# \"\"\""
   ]
  },
  {
   "cell_type": "code",
   "execution_count": null,
   "id": "d0e19cde",
   "metadata": {},
   "outputs": [],
   "source": [
    "# cursor = conn.cursor()\n",
    "# cursor.execute(query)\n",
    "# #cursor.execute(query , ([\"%cancer%\"],))\n",
    "# rows = cursor.fetchall()\n",
    "# print(rows)"
   ]
  },
  {
   "cell_type": "code",
   "execution_count": null,
   "id": "a205f35b",
   "metadata": {},
   "outputs": [],
   "source": [
    "dict_diseases = {\n",
    " 'Lymphoma': ['%lymphoma%', '%Hodgkin%', '%lymphatic%'],\n",
    " 'Sarcoma': ['%sarcoma%']}"
   ]
  },
  {
   "cell_type": "code",
   "execution_count": null,
   "id": "8a215eb9",
   "metadata": {},
   "outputs": [],
   "source": [
    "def number_authors_query(keyword = None, lst_keywords = None):\n",
    "    if keyword:\n",
    "        query = f\"\"\"\n",
    "            WITH bronchitis_works AS (\n",
    "                SELECT DISTINCT w.id\n",
    "                FROM works w\n",
    "                JOIN works_mesh wm ON w.id = wm.work_id\n",
    "                WHERE wm.descriptor_name ILIKE '{keyword}'\n",
    "            )\n",
    "            SELECT\n",
    "                pl.source_display_name AS journal_name,\n",
    "                COUNT(DISTINCT bw.id) AS num_publications\n",
    "            FROM bronchitis_works bw\n",
    "            JOIN works_locations pl ON bw.id = pl.work_id\n",
    "            WHERE pl.source_type = 'journal'\n",
    "            GROUP BY\n",
    "                pl.source_display_name\n",
    "            ORDER BY\n",
    "                num_publications DESC\n",
    "            LIMIT 10;\n",
    "            \"\"\"\n",
    "        \n",
    "    else:\n",
    "        formatted_keywords = \", \".join([f\"'{kw}'\" for kw in lst_keywords])\n",
    "        query = f\"\"\"\n",
    "            WITH bronchitis_works AS (\n",
    "                SELECT DISTINCT w.id\n",
    "                FROM works w\n",
    "                JOIN works_mesh wm ON w.id = wm.work_id\n",
    "                WHERE wm.descriptor_name ILIKE ANY(ARRAY[{formatted_keywords}])\n",
    "            )\n",
    "            SELECT\n",
    "                pl.source_display_name AS journal_name,\n",
    "                COUNT(DISTINCT bw.id) AS num_publications\n",
    "            FROM bronchitis_works bw\n",
    "            JOIN works_locations pl ON bw.id = pl.work_id\n",
    "            WHERE pl.source_type = 'journal'\n",
    "            GROUP BY\n",
    "                pl.source_display_name\n",
    "            ORDER BY\n",
    "                num_publications DESC\n",
    "            LIMIT 10;\n",
    "            \"\"\"\n",
    "    return query"
   ]
  },
  {
   "cell_type": "code",
   "execution_count": null,
   "id": "67ebdc01",
   "metadata": {},
   "outputs": [],
   "source": [
    "#running all the diseases\n",
    "for key , value in dict_diseases.items():\n",
    "    print(f\"running {key}\")\n",
    "    before_running = time.time()\n",
    "    if len(value) == 1:\n",
    "        query = number_authors_query(keyword = value[0])\n",
    "    else:\n",
    "        query = number_authors_query(lst_keywords = value)\n",
    "\n",
    "    cursor = conn.cursor()\n",
    "    cursor.execute(query)\n",
    "    rows = cursor.fetchall()\n",
    "    after_running = time.time()\n",
    "    print(rows)\n",
    "    print(f\"Ran in {after_running - before_running} seconds\")\n",
    "    \n",
    "\n",
    "\"\"\"\n",
    "True\n",
    "running Bronchitis\n",
    "[('CHEST Journal', 378), ('Thorax', 375), ('Avian Diseases', 316), ('BMJ', 279), ('American Journal of Respiratory and Critical Care Medicine', 203)]\n",
    "Ran in 686.7531394958496 seconds\n",
    "running Covid\n",
    "[('PLoS ONE', 7300), ('International Journal of Environmental Research and Public Health', 6989), ('Scientific Reports', 4840), ('Frontiers in Public Health', 4512), ('Frontiers in Immunology', 2847)]\n",
    "Ran in 748.5714433193207 seconds\n",
    "running Alzheimer's\n",
    "[('Journal of Alzheimer s Disease', 8106), ('Alzheimer s & Dementia', 4015), ('Neurology', 3992), ('Neurobiology of Aging', 3556), ('Journal of the American Geriatrics Society', 2569)]\n",
    "Ran in 1170.3090727329254 seconds\n",
    "\"\"\""
   ]
  }
 ],
 "metadata": {
  "kernelspec": {
   "display_name": "venv",
   "language": "python",
   "name": "python3"
  },
  "language_info": {
   "codemirror_mode": {
    "name": "ipython",
    "version": 3
   },
   "file_extension": ".py",
   "mimetype": "text/x-python",
   "name": "python",
   "nbconvert_exporter": "python",
   "pygments_lexer": "ipython3",
   "version": "3.12.10"
  }
 },
 "nbformat": 4,
 "nbformat_minor": 5
}
