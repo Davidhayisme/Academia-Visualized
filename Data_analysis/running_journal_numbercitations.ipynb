{
 "cells": [
  {
   "cell_type": "code",
   "execution_count": 1,
   "id": "91556dc5",
   "metadata": {},
   "outputs": [],
   "source": [
    "import pandas , numpy\n",
    "import psycopg2\n",
    "from dotenv import load_dotenv\n",
    "import os\n",
    "import time"
   ]
  },
  {
   "cell_type": "code",
   "execution_count": 2,
   "id": "d7240efa",
   "metadata": {},
   "outputs": [
    {
     "data": {
      "text/plain": [
       "True"
      ]
     },
     "execution_count": 2,
     "metadata": {},
     "output_type": "execute_result"
    }
   ],
   "source": [
    "load_dotenv()"
   ]
  },
  {
   "cell_type": "code",
   "execution_count": 3,
   "id": "00fafb78",
   "metadata": {},
   "outputs": [],
   "source": [
    "#CONNECTING TO COMPANY DB\n",
    "db_name = \"OpenAlex\"\n",
    "user = os.getenv(\"user\")\n",
    "password = os.getenv(\"password\")\n",
    "host = os.getenv(\"host\")\n",
    "port = os.getenv(\"port\")"
   ]
  },
  {
   "cell_type": "code",
   "execution_count": 4,
   "id": "4377d03d",
   "metadata": {},
   "outputs": [],
   "source": [
    "conn = psycopg2.connect(f\"dbname ={db_name} user={user} password={password} host={host} port={port}\")"
   ]
  },
  {
   "cell_type": "code",
   "execution_count": 5,
   "id": "95572c81",
   "metadata": {},
   "outputs": [],
   "source": [
    "query = \"\"\"\n",
    "WITH bronchitis_works AS (\n",
    "    SELECT DISTINCT w.id\n",
    "    FROM works w\n",
    "    JOIN works_mesh wm ON w.id = wm.work_id\n",
    "    WHERE wm.descriptor_name ILIKE '%bronchitis%'\n",
    ")\n",
    "SELECT\n",
    "    pl.source_display_name AS journal_name,\n",
    "    SUM(w.cited_by_count) AS total_citations\n",
    "FROM bronchitis_works bw\n",
    "JOIN works_locations pl ON bw.id = pl.work_id\n",
    "JOIN works w ON bw.id = w.id\n",
    "WHERE pl.source_type = 'journal'\n",
    "GROUP BY\n",
    "    pl.source_display_name\n",
    "ORDER BY\n",
    "    total_citations DESC\n",
    "LIMIT 5;\n",
    "\"\"\""
   ]
  },
  {
   "cell_type": "code",
   "execution_count": null,
   "id": "7f62a79c",
   "metadata": {},
   "outputs": [],
   "source": [
    "cursor = conn.cursor()\n",
    "cursor.execute(query)\n",
    "#cursor.execute(query , ([\"%cancer%\"],))\n",
    "rows = cursor.fetchall()\n",
    "print(rows)"
   ]
  },
  {
   "cell_type": "code",
   "execution_count": null,
   "id": "abf0adb0",
   "metadata": {},
   "outputs": [],
   "source": [
    "dict_diseases = {'Bronchitis': ['%bronchitis%'],\n",
    " 'Covid': ['%covid%', '%coronavirus%', '%sars-cov-2%', '%2019-ncov%'],\n",
    " \"Alzheimer's\": ['%alzheimer%', '%dementia%', '%neurodegenerative%'],\n",
    " 'Diabetes': ['%diabetes%', '%hyperglycemia%'],\n",
    " 'Lymphoma': ['%lymphoma%', '%Hodgkin%', '%lymphatic%'],\n",
    " 'Sarcoma': ['%sarcoma%']}"
   ]
  },
  {
   "cell_type": "code",
   "execution_count": null,
   "id": "da66f73f",
   "metadata": {},
   "outputs": [],
   "source": [
    "def number_authors_query(keyword = None, lst_keywords = None):\n",
    "    if keyword:\n",
    "        query = f\"\"\"\n",
    "            WITH cardiovascular_related_works AS (\n",
    "            SELECT DISTINCT id\n",
    "            FROM works\n",
    "            JOIN works_mesh wm ON works.id = wm.work_id\n",
    "            WHERE wm.descriptor_name ILIKE '{keyword}'\n",
    "        ),\n",
    "        work_institutions AS (\n",
    "            SELECT\n",
    "                crw.id AS work_id,\n",
    "                unnest(w.corresponding_institution_ids) AS institution_id\n",
    "            FROM cardiovascular_related_works crw\n",
    "            JOIN works w ON crw.id = w.id\n",
    "            WHERE w.corresponding_institution_ids IS NOT NULL\n",
    "        )\n",
    "        SELECT\n",
    "            i.id AS institution_id,\n",
    "            i.display_name AS institution_name,\n",
    "            COUNT(DISTINCT wi.work_id) AS num_publications\n",
    "        FROM work_institutions wi\n",
    "        JOIN institutions i ON wi.institution_id = i.id\n",
    "        GROUP BY\n",
    "            i.id,\n",
    "            i.display_name\n",
    "        ORDER BY\n",
    "            num_publications DESC\n",
    "        LIMIT 10;\n",
    "            \"\"\"\n",
    "    else:\n",
    "        formatted_keywords = \", \".join([f\"'{kw}'\" for kw in lst_keywords])\n",
    "        query = f\"\"\"\n",
    "            WITH cardiovascular_related_works AS (\n",
    "                SELECT DISTINCT id\n",
    "                FROM works\n",
    "                JOIN works_mesh wm ON works.id = wm.work_id\n",
    "                WHERE wm.descriptor_name ILIKE ANY(ARRAY[{formatted_keywords}])\n",
    "            ),\n",
    "            work_institutions AS (\n",
    "                SELECT\n",
    "                    crw.id AS work_id,\n",
    "                    unnest(w.corresponding_institution_ids) AS institution_id\n",
    "                FROM cardiovascular_related_works crw\n",
    "                JOIN works w ON crw.id = w.id\n",
    "                WHERE w.corresponding_institution_ids IS NOT NULL\n",
    "            )\n",
    "            SELECT\n",
    "                i.id AS institution_id,\n",
    "                i.display_name AS institution_name,\n",
    "                COUNT(DISTINCT wi.work_id) AS num_publications\n",
    "            FROM work_institutions wi\n",
    "            JOIN institutions i ON wi.institution_id = i.id\n",
    "            GROUP BY\n",
    "                i.id,\n",
    "                i.display_name\n",
    "            ORDER BY\n",
    "                num_publications DESC\n",
    "            LIMIT 10;\n",
    "            \"\"\"\n",
    "    return query"
   ]
  },
  {
   "cell_type": "code",
   "execution_count": null,
   "id": "03a16525",
   "metadata": {},
   "outputs": [],
   "source": [
    "#running all the diseases\n",
    "for key , value in dict_diseases.items():\n",
    "    print(f\"running {key}\")\n",
    "    before_running = time.time()\n",
    "    if len(value) == 1:\n",
    "        query = number_authors_query(keyword = value[0])\n",
    "    else:\n",
    "        query = number_authors_query(lst_keywords = value)\n",
    "\n",
    "    cursor = conn.cursor()\n",
    "    cursor.execute(query)\n",
    "    rows = cursor.fetchall()\n",
    "    after_running = time.time()\n",
    "    print(rows)\n",
    "    print(f\"Ran in {after_running - before_running} seconds\")\n",
    "    "
   ]
  }
 ],
 "metadata": {
  "kernelspec": {
   "display_name": "venv",
   "language": "python",
   "name": "python3"
  },
  "language_info": {
   "codemirror_mode": {
    "name": "ipython",
    "version": 3
   },
   "file_extension": ".py",
   "mimetype": "text/x-python",
   "name": "python",
   "nbconvert_exporter": "python",
   "pygments_lexer": "ipython3",
   "version": "3.12.10"
  }
 },
 "nbformat": 4,
 "nbformat_minor": 5
}
