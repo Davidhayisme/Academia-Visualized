{
 "cells": [
  {
   "cell_type": "code",
   "execution_count": 1,
   "id": "110d2635",
   "metadata": {},
   "outputs": [],
   "source": [
    "import pandas , numpy\n",
    "import psycopg2\n",
    "from dotenv import load_dotenv\n",
    "import os\n",
    "import time"
   ]
  },
  {
   "cell_type": "code",
   "execution_count": 2,
   "id": "eb3740fa",
   "metadata": {},
   "outputs": [
    {
     "data": {
      "text/plain": [
       "True"
      ]
     },
     "execution_count": 2,
     "metadata": {},
     "output_type": "execute_result"
    }
   ],
   "source": [
    "load_dotenv()"
   ]
  },
  {
   "cell_type": "code",
   "execution_count": 3,
   "id": "550c07f8",
   "metadata": {},
   "outputs": [],
   "source": [
    "#CONNECTING TO COMPANY DB\n",
    "db_name = \"OpenAlex\"\n",
    "user = os.getenv(\"user\")\n",
    "password = os.getenv(\"password\")\n",
    "host = os.getenv(\"host\")\n",
    "port = os.getenv(\"port\")"
   ]
  },
  {
   "cell_type": "code",
   "execution_count": 4,
   "id": "b5deba93",
   "metadata": {},
   "outputs": [],
   "source": [
    "conn = psycopg2.connect(f\"dbname ={db_name} user={user} password={password} host={host} port={port}\")"
   ]
  },
  {
   "cell_type": "code",
   "execution_count": 5,
   "id": "b77d5ade",
   "metadata": {},
   "outputs": [],
   "source": [
    "#getting top 5 papers for each field\n",
    "#bronchitis\n",
    "query = \"\"\"\n",
    "WITH cardiovascular_related_works AS (\n",
    "    SELECT DISTINCT id\n",
    "    FROM works\n",
    "    JOIN works_mesh wm ON works.id = wm.work_id\n",
    "    WHERE wm.descriptor_name ILIKE '%bronchitis%'\n",
    "),\n",
    "work_institutions AS (\n",
    "    SELECT\n",
    "        crw.id AS work_id,\n",
    "        unnest(w.corresponding_institution_ids) AS institution_id\n",
    "    FROM cardiovascular_related_works crw\n",
    "    JOIN works w ON crw.id = w.id\n",
    "    WHERE w.corresponding_institution_ids IS NOT NULL\n",
    ")\n",
    "SELECT\n",
    "    i.id AS institution_id,\n",
    "    i.display_name AS institution_name,\n",
    "    COUNT(DISTINCT wi.work_id) AS num_publications\n",
    "FROM work_institutions wi\n",
    "JOIN institutions i ON wi.institution_id = i.id\n",
    "GROUP BY\n",
    "    i.id,\n",
    "    i.display_name\n",
    "ORDER BY\n",
    "    num_publications DESC\n",
    "LIMIT 10;\n",
    "\"\"\""
   ]
  },
  {
   "cell_type": "code",
   "execution_count": 6,
   "id": "7597cd30",
   "metadata": {},
   "outputs": [],
   "source": [
    "# cursor = conn.cursor()\n",
    "# cursor.execute(query)\n",
    "# #cursor.execute(query , ([\"%cancer%\"],))\n",
    "# rows = cursor.fetchall()\n",
    "# print(rows)"
   ]
  },
  {
   "cell_type": "code",
   "execution_count": null,
   "id": "cf363178",
   "metadata": {},
   "outputs": [],
   "source": [
    "dict_diseases = {\n",
    "'Bronchitis': ['%bronchitis%'],\n",
    " 'Covid': ['%covid%', '%coronavirus%', '%sars-cov-2%', '%2019-ncov%'],\n",
    " \"Alzheimer's\": ['%alzheimer%', '%dementia%', '%neurodegenerative%'],\n",
    " 'Diabetes': ['%diabetes%', '%hyperglycemia%'],\n",
    " 'Lymphoma': ['%lymphoma%', '%Hodgkin%', '%lymphatic%'],\n",
    " 'Sarcoma': ['%sarcoma%']}"
   ]
  },
  {
   "cell_type": "code",
   "execution_count": 8,
   "id": "4e4bd1e4",
   "metadata": {},
   "outputs": [],
   "source": [
    "def number_authors_query(keyword = None, lst_keywords = None):\n",
    "    if keyword:\n",
    "        query = f\"\"\"\n",
    "            WITH cardiovascular_related_works AS (\n",
    "            SELECT DISTINCT id\n",
    "            FROM works\n",
    "            JOIN works_mesh wm ON works.id = wm.work_id\n",
    "            WHERE wm.descriptor_name ILIKE '{keyword}'\n",
    "        ),\n",
    "        work_institutions AS (\n",
    "            SELECT\n",
    "                crw.id AS work_id,\n",
    "                unnest(w.corresponding_institution_ids) AS institution_id\n",
    "            FROM cardiovascular_related_works crw\n",
    "            JOIN works w ON crw.id = w.id\n",
    "            WHERE w.corresponding_institution_ids IS NOT NULL\n",
    "        )\n",
    "        SELECT\n",
    "            i.id AS institution_id,\n",
    "            i.display_name AS institution_name,\n",
    "            COUNT(DISTINCT wi.work_id) AS num_publications\n",
    "        FROM work_institutions wi\n",
    "        JOIN institutions i ON wi.institution_id = i.id\n",
    "        GROUP BY\n",
    "            i.id,\n",
    "            i.display_name\n",
    "        ORDER BY\n",
    "            num_publications DESC\n",
    "        LIMIT 10;\n",
    "            \"\"\"\n",
    "    else:\n",
    "        formatted_keywords = \", \".join([f\"'{kw}'\" for kw in lst_keywords])\n",
    "        query = f\"\"\"\n",
    "            WITH cardiovascular_related_works AS (\n",
    "                SELECT DISTINCT id\n",
    "                FROM works\n",
    "                JOIN works_mesh wm ON works.id = wm.work_id\n",
    "                WHERE wm.descriptor_name ILIKE ANY(ARRAY[{formatted_keywords}])\n",
    "            ),\n",
    "            work_institutions AS (\n",
    "                SELECT\n",
    "                    crw.id AS work_id,\n",
    "                    unnest(w.corresponding_institution_ids) AS institution_id\n",
    "                FROM cardiovascular_related_works crw\n",
    "                JOIN works w ON crw.id = w.id\n",
    "                WHERE w.corresponding_institution_ids IS NOT NULL\n",
    "            )\n",
    "            SELECT\n",
    "                i.id AS institution_id,\n",
    "                i.display_name AS institution_name,\n",
    "                COUNT(DISTINCT wi.work_id) AS num_publications\n",
    "            FROM work_institutions wi\n",
    "            JOIN institutions i ON wi.institution_id = i.id\n",
    "            GROUP BY\n",
    "                i.id,\n",
    "                i.display_name\n",
    "            ORDER BY\n",
    "                num_publications DESC\n",
    "            LIMIT 10;\n",
    "            \"\"\"\n",
    "    return query"
   ]
  },
  {
   "cell_type": "code",
   "execution_count": 9,
   "id": "7ad60c05",
   "metadata": {},
   "outputs": [
    {
     "name": "stdout",
     "output_type": "stream",
     "text": [
      "running Lymphoma\n",
      "[('https://openalex.org/I1343551460', 'The University of Texas MD Anderson Cancer Center', 1400), ('https://openalex.org/I1334819555', 'Memorial Sloan Kettering Cancer Center', 1104), ('https://openalex.org/I136199984', 'Harvard University', 1066), ('https://openalex.org/I154526488', 'Inserm', 917), ('https://openalex.org/I4210140884', 'National Cancer Institute', 710), ('https://openalex.org/I205783295', 'Cornell University', 655), ('https://openalex.org/I97018004', 'Stanford University', 646), ('https://openalex.org/I157773358', 'Sun Yat-sen University', 617), ('https://openalex.org/I200296433', 'Chinese Academy of Medical Sciences & Peking Union Medical College', 579), ('https://openalex.org/I79576946', 'University of Pennsylvania', 508)]\n",
      "Ran in 561.2531564235687 seconds\n",
      "running Sarcoma\n",
      "[('https://openalex.org/I136199984', 'Harvard University', 624), ('https://openalex.org/I1334819555', 'Memorial Sloan Kettering Cancer Center', 583), ('https://openalex.org/I1343551460', 'The University of Texas MD Anderson Cancer Center', 573), ('https://openalex.org/I4210140884', 'National Cancer Institute', 384), ('https://openalex.org/I4210087915', 'Massachusetts General Hospital', 360), ('https://openalex.org/I154526488', 'Inserm', 338), ('https://openalex.org/I1283280774', \"Brigham and Women's Hospital\", 263), ('https://openalex.org/I1330342723', 'Mayo Clinic', 249), ('https://openalex.org/I1299303238', 'National Institutes of Health', 231), ('https://openalex.org/I185261750', 'University of Toronto', 223)]\n",
      "Ran in 134.5122470855713 seconds\n"
     ]
    }
   ],
   "source": [
    "#running all the diseases\n",
    "for key , value in dict_diseases.items():\n",
    "    print(f\"running {key}\")\n",
    "    before_running = time.time()\n",
    "    if len(value) == 1:\n",
    "        query = number_authors_query(keyword = value[0])\n",
    "    else:\n",
    "        query = number_authors_query(lst_keywords = value)\n",
    "\n",
    "    cursor = conn.cursor()\n",
    "    cursor.execute(query)\n",
    "    rows = cursor.fetchall()\n",
    "    after_running = time.time()\n",
    "    print(rows)\n",
    "    print(f\"Ran in {after_running - before_running} seconds\")\n",
    "    "
   ]
  }
 ],
 "metadata": {
  "kernelspec": {
   "display_name": "venv",
   "language": "python",
   "name": "python3"
  },
  "language_info": {
   "codemirror_mode": {
    "name": "ipython",
    "version": 3
   },
   "file_extension": ".py",
   "mimetype": "text/x-python",
   "name": "python",
   "nbconvert_exporter": "python",
   "pygments_lexer": "ipython3",
   "version": "3.12.10"
  }
 },
 "nbformat": 4,
 "nbformat_minor": 5
}
