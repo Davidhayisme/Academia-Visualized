{
 "cells": [
  {
   "cell_type": "code",
   "execution_count": null,
   "id": "2eb919ea",
   "metadata": {},
   "outputs": [],
   "source": [
    "import pandas , numpy\n",
    "import psycopg2\n",
    "from dotenv import load_dotenv\n",
    "import os\n",
    "import time"
   ]
  },
  {
   "cell_type": "code",
   "execution_count": null,
   "id": "b77c0c64",
   "metadata": {},
   "outputs": [],
   "source": [
    "load_dotenv()"
   ]
  },
  {
   "cell_type": "code",
   "execution_count": null,
   "id": "6d5c352a",
   "metadata": {},
   "outputs": [],
   "source": [
    "#CONNECTING TO COMPANY DB\n",
    "db_name = \"OpenAlex\"\n",
    "user = os.getenv(\"user\")\n",
    "password = os.getenv(\"password\")\n",
    "host = os.getenv(\"host\")\n",
    "port = os.getenv(\"port\")"
   ]
  },
  {
   "cell_type": "code",
   "execution_count": null,
   "id": "ad3f3d15",
   "metadata": {},
   "outputs": [],
   "source": [
    "conn = psycopg2.connect(f\"dbname ={db_name} user={user} password={password} host={host} port={port}\")"
   ]
  },
  {
   "cell_type": "code",
   "execution_count": null,
   "id": "a1380391",
   "metadata": {},
   "outputs": [],
   "source": [
    "query = \"\"\"\n",
    "WITH cancer_related_mesh AS (\n",
    "    SELECT DISTINCT work_id\n",
    "    FROM works_mesh wm\n",
    "    WHERE wm.descriptor_name ILIKE '%sarcoma%'\n",
    ")\n",
    "SELECT\n",
    "    wa.author_id,\n",
    "    wa.author_display_name,\n",
    "    COUNT(DISTINCT w.id) AS works_count,\n",
    "    COALESCE(SUM(w.cited_by_count), 0) AS total_citations\n",
    "FROM works w\n",
    "JOIN cancer_related_mesh crm ON w.id = crm.work_id\n",
    "JOIN works_authorships wa ON w.id = wa.work_id\n",
    "GROUP BY\n",
    "    wa.author_id,\n",
    "    wa.author_display_name\n",
    "ORDER BY\n",
    "    total_citations DESC\n",
    "LIMIT 5;\n",
    "\"\"\""
   ]
  },
  {
   "cell_type": "code",
   "execution_count": null,
   "id": "b5dd4f28",
   "metadata": {},
   "outputs": [],
   "source": [
    "# cursor = conn.cursor()\n",
    "# cursor.execute(query)\n",
    "# #cursor.execute(query , ([\"%cancer%\"],))\n",
    "# rows = cursor.fetchall()\n",
    "# print(rows)\n",
    "#[('https://openalex.org/A5075518419', 'Murray F. Brennan', 261, Decimal('35602')), ('https://openalex.org/A5042202815', 'Jean‐Yves Blay', 364, Decimal('34944')), ('https://openalex.org/A5050651568', 'Christopher D.�M. Fletcher', 255, Decimal('34255')), ('https://openalex.org/A5031195893', 'Julian P. T. Higgins', 5, Decimal('31955')), ('https://openalex.org/A5103553598', 'Simon G. Thompson', 1, Decimal('31864'))]"
   ]
  },
  {
   "cell_type": "code",
   "execution_count": null,
   "id": "9c09baf5",
   "metadata": {},
   "outputs": [],
   "source": [
    "query = \"\"\"\n",
    "WITH cancer_related_mesh AS (\n",
    "    SELECT DISTINCT work_id\n",
    "    FROM works_mesh wm\n",
    "    WHERE wm.descriptor_name ILIKE '%bronchitis%'\n",
    ")\n",
    "SELECT\n",
    "    wa.author_id,\n",
    "    wa.author_display_name,\n",
    "    COUNT(DISTINCT w.id) AS works_count,\n",
    "    COALESCE(SUM(w.cited_by_count), 0) AS total_citations\n",
    "FROM works w\n",
    "JOIN cancer_related_mesh crm ON w.id = crm.work_id\n",
    "JOIN works_authorships wa ON w.id = wa.work_id\n",
    "GROUP BY\n",
    "    wa.author_id,\n",
    "    wa.author_display_name\n",
    "ORDER BY\n",
    "    total_citations DESC\n",
    "LIMIT 5;\n",
    "\"\"\""
   ]
  },
  {
   "cell_type": "code",
   "execution_count": null,
   "id": "6af94c6a",
   "metadata": {},
   "outputs": [],
   "source": [
    "# cursor = conn.cursor()\n",
    "# cursor.execute(query)\n",
    "# #cursor.execute(query , ([\"%cancer%\"],))\n",
    "\n",
    "# rows = cursor.fetchall()\n",
    "# print(rows)\n",
    "#[('https://openalex.org/A5010278392', 'Leonardo M. Fabbri', 34, Decimal('5023')), ('https://openalex.org/A5059577678', 'Marina Saetta', 21, Decimal('4912')), ('https://openalex.org/A5108399330', 'Cristina E. Mapp', 17, Decimal('4341')), ('https://openalex.org/A5105301527', 'Piero Maestrelli', 20, Decimal('4299')), ('https://openalex.org/A5030694232', 'Mark W. Jackwood', 63, Decimal('4136'))]"
   ]
  },
  {
   "cell_type": "code",
   "execution_count": null,
   "id": "3ccfb4cb",
   "metadata": {},
   "outputs": [],
   "source": [
    "query = \"\"\"\n",
    "WITH cancer_related_mesh AS (\n",
    "    SELECT DISTINCT work_id\n",
    "    FROM works_mesh wm\n",
    "    WHERE wm.descriptor_name ILIKE ANY(ARRAY['%diabetes%' , '%hyperglycemia%'])\n",
    ")\n",
    "SELECT\n",
    "    wa.author_id,\n",
    "    wa.author_display_name,\n",
    "    COUNT(DISTINCT w.id) AS works_count,\n",
    "    COALESCE(SUM(w.cited_by_count), 0) AS total_citations\n",
    "FROM works w\n",
    "JOIN cancer_related_mesh crm ON w.id = crm.work_id\n",
    "JOIN works_authorships wa ON w.id = wa.work_id\n",
    "GROUP BY\n",
    "    wa.author_id,\n",
    "    wa.author_display_name\n",
    "ORDER BY\n",
    "    total_citations DESC\n",
    "LIMIT 5;\n",
    "\"\"\""
   ]
  },
  {
   "cell_type": "code",
   "execution_count": null,
   "id": "02685311",
   "metadata": {},
   "outputs": [],
   "source": [
    "cursor = conn.cursor()\n",
    "cursor.execute(query)\n",
    "#cursor.execute(query , ([\"%cancer%\"],))\n",
    "\n",
    "rows = cursor.fetchall()\n",
    "print(rows)\n",
    "#[('https://openalex.org/A5019887736', 'Paul Zimmet', 494, Decimal('110409')), ('https://openalex.org/A5056459536', 'Frank B. Hu', 494, Decimal('97878')), ('https://openalex.org/A5040182038', 'John B. Buse', 393, Decimal('91754')), ('https://openalex.org/A5035897807', 'John M. Lachin', 220, Decimal('90277')), ('https://openalex.org/A5024475260', 'Jonathan E. Shaw', 367, Decimal('87216'))]"
   ]
  },
  {
   "cell_type": "code",
   "execution_count": null,
   "id": "9fa69896",
   "metadata": {},
   "outputs": [],
   "source": [
    "query = \"\"\"\n",
    "WITH cancer_related_mesh AS (\n",
    "    SELECT DISTINCT work_id\n",
    "    FROM works_mesh wm\n",
    "    WHERE wm.descriptor_name ILIKE ANY(ARRAY['%lymphoma%' , '%Hodgkin%' , '%lymphatic%'])\n",
    ")\n",
    "SELECT\n",
    "    wa.author_id,\n",
    "    wa.author_display_name,\n",
    "    COUNT(DISTINCT w.id) AS works_count,\n",
    "    COALESCE(SUM(w.cited_by_count), 0) AS total_citations\n",
    "FROM works w\n",
    "JOIN cancer_related_mesh crm ON w.id = crm.work_id\n",
    "JOIN works_authorships wa ON w.id = wa.work_id\n",
    "GROUP BY\n",
    "    wa.author_id,\n",
    "    wa.author_display_name\n",
    "ORDER BY\n",
    "    total_citations DESC\n",
    "LIMIT 5;\n",
    "\"\"\""
   ]
  },
  {
   "cell_type": "code",
   "execution_count": null,
   "id": "62fcc82d",
   "metadata": {},
   "outputs": [],
   "source": [
    "cursor = conn.cursor()\n",
    "cursor.execute(query)\n",
    "#cursor.execute(query , ([\"%cancer%\"],))\n",
    "\n",
    "rows = cursor.fetchall()\n",
    "print(rows)\n",
    "#[('https://openalex.org/A5089779163', 'Elaine S. Jaffe', 574, Decimal('99048')), ('https://openalex.org/A5031758990', 'Randy D. Gascoyne', 439, Decimal('91840')), ('https://openalex.org/A5001449157', 'Todd R. Golub', 27, Decimal('75872')), ('https://openalex.org/A5022658681', 'Joseph M. Connors', 334, Decimal('74930')), ('https://openalex.org/A5029161067', 'Elı́as Campo', 442, Decimal('68302'))]"
   ]
  },
  {
   "cell_type": "code",
   "execution_count": null,
   "id": "88836d8e",
   "metadata": {},
   "outputs": [],
   "source": [
    "query = \"\"\"\n",
    "WITH cancer_related_mesh AS (\n",
    "    SELECT DISTINCT work_id\n",
    "    FROM works_mesh wm\n",
    "    WHERE wm.descriptor_name ILIKE ANY(ARRAY['%covid%', '%coronavirus%', '%sars-cov-2%', '%2019-ncov%'])\n",
    ")\n",
    "SELECT\n",
    "    wa.author_id,\n",
    "    wa.author_display_name,\n",
    "    COUNT(DISTINCT w.id) AS works_count,\n",
    "    COALESCE(SUM(w.cited_by_count), 0) AS total_citations\n",
    "FROM works w\n",
    "JOIN cancer_related_mesh crm ON w.id = crm.work_id\n",
    "JOIN works_authorships wa ON w.id = wa.work_id\n",
    "GROUP BY\n",
    "    wa.author_id,\n",
    "    wa.author_display_name\n",
    "ORDER BY\n",
    "    total_citations DESC\n",
    "LIMIT 5;\n",
    "\"\"\""
   ]
  },
  {
   "cell_type": "code",
   "execution_count": null,
   "id": "60ed99d9",
   "metadata": {},
   "outputs": [],
   "source": [
    "cursor = conn.cursor()\n",
    "cursor.execute(query)\n",
    "#cursor.execute(query , ([\"%cancer%\"],))\n",
    "\n",
    "rows = cursor.fetchall()\n",
    "print(rows)\n",
    "\n",
    "#[('https://openalex.org/A5019887736', 'Paul Zimmet', 494, Decimal('110409')), ('https://openalex.org/A5056459536', 'Frank B. Hu', 494, Decimal('97878')), ('https://openalex.org/A5040182038', 'John B. Buse', 393, Decimal('91754')), ('https://openalex.org/A5035897807', 'John M. Lachin', 220, Decimal('90277')), ('https://openalex.org/A5024475260', 'Jonathan E. Shaw', 367, Decimal('87216'))]\n",
    "#[('https://openalex.org/A5089779163', 'Elaine S. Jaffe', 574, Decimal('99048')), ('https://openalex.org/A5031758990', 'Randy D. Gascoyne', 439, Decimal('91840')), ('https://openalex.org/A5001449157', 'Todd R. Golub', 27, Decimal('75872')), ('https://openalex.org/A5022658681', 'Joseph M. Connors', 334, Decimal('74930')), ('https://openalex.org/A5029161067', 'Elı́as Campo', 442, Decimal('68302'))]\n",
    "#[('https://openalex.org/A5100655339', 'Ting Yu', 9, Decimal('116883')), ('https://openalex.org/A5100613209', 'Bin Cao', 71, Decimal('96690')), ('https://openalex.org/A5011461272', 'Christian Drosten', 252, Decimal('96671')), ('https://openalex.org/A5024929222', 'Jiaan Xia', 10, Decimal('96234')), ('https://openalex.org/A5062226704', 'Jiuyang Xu', 26, Decimal('93502'))]"
   ]
  },
  {
   "cell_type": "code",
   "execution_count": null,
   "id": "80390c79",
   "metadata": {},
   "outputs": [],
   "source": [
    "query = \"\"\"\n",
    "WITH cancer_related_mesh AS (\n",
    "    SELECT DISTINCT work_id\n",
    "    FROM works_mesh wm\n",
    "    WHERE wm.descriptor_name ILIKE ANY(ARRAY['%alzheimer%', '%dementia%', '%neurodegenerative%'])\n",
    ")\n",
    "SELECT\n",
    "    wa.author_id,\n",
    "    wa.author_display_name,\n",
    "    COUNT(DISTINCT w.id) AS works_count,\n",
    "    COALESCE(SUM(w.cited_by_count), 0) AS total_citations\n",
    "FROM works w\n",
    "JOIN cancer_related_mesh crm ON w.id = crm.work_id\n",
    "JOIN works_authorships wa ON w.id = wa.work_id\n",
    "GROUP BY\n",
    "    wa.author_id,\n",
    "    wa.author_display_name\n",
    "ORDER BY\n",
    "    total_citations DESC\n",
    "LIMIT 5;\n",
    "\"\"\""
   ]
  },
  {
   "cell_type": "code",
   "execution_count": null,
   "id": "fd707e92",
   "metadata": {},
   "outputs": [],
   "source": [
    "cursor = conn.cursor()\n",
    "cursor.execute(query)\n",
    "#cursor.execute(query , ([\"%cancer%\"],))\n",
    "\n",
    "rows = cursor.fetchall()\n",
    "print(rows)"
   ]
  },
  {
   "cell_type": "code",
   "execution_count": null,
   "id": "739630eb",
   "metadata": {},
   "outputs": [],
   "source": [
    "query = \"\"\"\n",
    "WITH cancer_related_mesh AS (\n",
    "    SELECT DISTINCT work_id\n",
    "    FROM works_mesh wm\n",
    "    WHERE wm.descriptor_name ILIKE ANY(ARRAY['%heart%','%cardiovascular%','%cardiac%','%coronary%','%myocardial%',\n",
    "    '%angina%','%cardiomyopathy%','%arteriosclerosis%'])\n",
    "SELECT\n",
    "    wa.author_id,\n",
    "    wa.author_display_name,\n",
    "    COUNT(DISTINCT w.id) AS works_count,\n",
    "    COALESCE(SUM(w.cited_by_count), 0) AS total_citations\n",
    "FROM works w\n",
    "JOIN cancer_related_mesh crm ON w.id = crm.work_id\n",
    "JOIN works_authorships wa ON w.id = wa.work_id\n",
    "GROUP BY\n",
    "    wa.author_id,\n",
    "    wa.author_display_name\n",
    "ORDER BY\n",
    "    total_citations DESC\n",
    "LIMIT 5;\n",
    "\"\"\""
   ]
  },
  {
   "cell_type": "code",
   "execution_count": null,
   "id": "a42454af",
   "metadata": {},
   "outputs": [],
   "source": [
    "cursor = conn.cursor()\n",
    "cursor.execute(query)\n",
    "#cursor.execute(query , ([\"%cancer%\"],))\n",
    "\n",
    "rows = cursor.fetchall()\n",
    "print(rows)"
   ]
  },
  {
   "cell_type": "code",
   "execution_count": null,
   "id": "aa50b534",
   "metadata": {},
   "outputs": [],
   "source": [
    "query = \"\"\"\n",
    "WITH cancer_related_mesh AS (\n",
    "    SELECT DISTINCT work_id\n",
    "    FROM works_mesh wm\n",
    "    WHERE wm.descriptor_name ILIKE ANY(ARRAY['%liver%','%hepatic%','%cirrhosis%','%hepatitis%','%cholestasis%'])\n",
    "SELECT\n",
    "    wa.author_id,\n",
    "    wa.author_display_name,\n",
    "    COUNT(DISTINCT w.id) AS works_count,\n",
    "    COALESCE(SUM(w.cited_by_count), 0) AS total_citations\n",
    "FROM works w\n",
    "JOIN cancer_related_mesh crm ON w.id = crm.work_id\n",
    "JOIN works_authorships wa ON w.id = wa.work_id\n",
    "GROUP BY\n",
    "    wa.author_id,\n",
    "    wa.author_display_name\n",
    "ORDER BY\n",
    "    total_citations DESC\n",
    "LIMIT 5;\n",
    "\"\"\""
   ]
  },
  {
   "cell_type": "code",
   "execution_count": null,
   "id": "3f6d49ee",
   "metadata": {},
   "outputs": [],
   "source": [
    "cursor = conn.cursor()\n",
    "cursor.execute(query)\n",
    "#cursor.execute(query , ([\"%cancer%\"],))\n",
    "\n",
    "rows = cursor.fetchall()\n",
    "print(rows)"
   ]
  }
 ],
 "metadata": {
  "kernelspec": {
   "display_name": "venv",
   "language": "python",
   "name": "python3"
  },
  "language_info": {
   "codemirror_mode": {
    "name": "ipython",
    "version": 3
   },
   "file_extension": ".py",
   "mimetype": "text/x-python",
   "name": "python",
   "nbconvert_exporter": "python",
   "pygments_lexer": "ipython3",
   "version": "3.12.10"
  }
 },
 "nbformat": 4,
 "nbformat_minor": 5
}
