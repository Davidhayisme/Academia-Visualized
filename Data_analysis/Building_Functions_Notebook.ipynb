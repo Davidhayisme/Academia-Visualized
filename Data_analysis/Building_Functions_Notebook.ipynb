{
 "cells": [
  {
   "cell_type": "code",
   "execution_count": 1,
   "id": "b4605106",
   "metadata": {},
   "outputs": [],
   "source": [
    "import pandas , numpy\n",
    "import psycopg2\n",
    "from dotenv import load_dotenv\n",
    "import os\n",
    "import time"
   ]
  },
  {
   "cell_type": "code",
   "execution_count": 2,
   "id": "4d3bf538",
   "metadata": {},
   "outputs": [
    {
     "data": {
      "text/plain": [
       "True"
      ]
     },
     "execution_count": 2,
     "metadata": {},
     "output_type": "execute_result"
    }
   ],
   "source": [
    "load_dotenv()"
   ]
  },
  {
   "cell_type": "code",
   "execution_count": 3,
   "id": "9d8071bf",
   "metadata": {},
   "outputs": [],
   "source": [
    "#CONNECTING TO COMPANY DB\n",
    "db_name = \"OpenAlex\"\n",
    "user = os.getenv(\"user\")\n",
    "password = os.getenv(\"password\")\n",
    "host = os.getenv(\"host\")\n",
    "port = os.getenv(\"port\")"
   ]
  },
  {
   "cell_type": "code",
   "execution_count": 4,
   "id": "32445b5b",
   "metadata": {},
   "outputs": [],
   "source": [
    "conn = psycopg2.connect(f\"dbname ={db_name} user={user} password={password} host={host} port={port}\")"
   ]
  },
  {
   "cell_type": "code",
   "execution_count": null,
   "id": "49588236",
   "metadata": {},
   "outputs": [],
   "source": [
    "def Data_Author_Card(pg_connection, lst_array_keywords):\n",
    "    \"\"\" \n",
    "    desired_data:\n",
    "    author name \n",
    "    link to authors profile\n",
    "    \"\"\"\n",
    "    cursor = pg_connection.cursor()\n",
    "    cursor.execute(f\"\"\" \n",
    "        SELECT\n",
    "        a.id,\n",
    "        a.display_name,\n",
    "        a.cited_by_count,\n",
    "        t.subfield_display_name AS topic_subfield,\n",
    "        t.count               AS works_tagged\n",
    "        FROM authors AS a\n",
    "        JOIN authors_topics AS t\n",
    "        ON t.author_id = a.id\n",
    "        WHERE t.subfield_display_name ILIKE ANY (%s) \n",
    "        ORDER BY a.cited_by_count DESC\n",
    "        LIMIT 10;                \n",
    "        \"\"\" , (lst_array_keywords,))\n",
    "    \n",
    "    rows = cursor.fetchall()\n",
    "    print(rows)\n",
    "\n",
    "    pass"
   ]
  },
  {
   "cell_type": "code",
   "execution_count": null,
   "id": "2a31e4e2",
   "metadata": {},
   "outputs": [],
   "source": [
    "dict_disease_names = {\n",
    "    \"Cancer\": [\n",
    "        '%cancer%', '%carcinoma%', '%malignancy%', '%neoplasm%',\n",
    "        '%tumor%', '%tumour%', '%malignant%', '%cancerous%'\n",
    "    ],\n",
    "    \"Heart disease\": [\n",
    "        '%heart disease%', '%cardiovascular%', '%cardiac%', '%coronary%',\n",
    "        '%myocardial%', '%angina%', '%congestive heart failure%',\n",
    "        '%ischemic heart disease%', '%cardiomyopathy%', '%arteriosclerosis%'\n",
    "    ],\n",
    "    \"Covid\": [\n",
    "        '%covid%', '%covid-19%', '%coronavirus%', '%sars-cov-2%',\n",
    "        '%2019-ncov%', '%novel coronavirus%', '%coronavirus disease 2019%',\n",
    "        '%hcov-19%', '%wuhan flu%'\n",
    "    ],\n",
    "    \"Alzheimer's\": [\n",
    "        '%alzheimer%', '%alzheimers%', '%alzheimer\\'s%', '%dementia%',\n",
    "        '%neurodegenerative%', '%memory loss%', '%cognitive decline%',\n",
    "        '%senile dementia%', '%presenile dementia%', '%AD%', '%EOAD%', '%YOAD%'\n",
    "    ],\n",
    "    \"Leukemia\": [\n",
    "        '%leukemia%', '%leukaemia%', '%blood cancer%', '%cancer of the blood%',\n",
    "        '%hematopoietic cancer%', '%acute leukemia%', '%chronic leukemia%',\n",
    "        '%lymphocytic leukemia%', '%myeloblastic leukemia%', '%granulocytic leukemia%',\n",
    "        '%monocytic leukemia%', '%histiocytic leukemia%', '%myeloid leukemia%'\n",
    "    ],\n",
    "    \"Diabetes\": [\n",
    "        '%diabetes%', '%diabetes mellitus%', '%diabetes insipidus%',\n",
    "        '%type 1 diabetes%', '%type 2 diabetes%', '%juvenile-onset diabetes%',\n",
    "        '%adult-onset diabetes%', '%insulin-dependent diabetes%', '%non-insulin-dependent diabetes%',\n",
    "        '%hyperglycemia%', '%high blood sugar%', '%glucose dysregulation%', '%dm%'\n",
    "    ],\n",
    "    \"Lymphoma\": [\n",
    "        '%lymphoma%', '%lymphomata%', '%Hodgkin%', '%non-Hodgkin%',\n",
    "        '%Hodgkin\\'s disease%', '%lymphatic malignancy%', '%B-cell lymphoma%',\n",
    "        '%T-cell lymphoma%', '%follicular lymphoma%', '%Burkitt\\'s lymphoma%',\n",
    "        '%lymphosarcoma%', '%lymphatic neoplasm%'\n",
    "    ],\n",
    "    \"Sarcoma\": [\n",
    "        '%sarcoma%', '%sarcomas%', '%soft tissue sarcoma%', '%bone sarcoma%',\n",
    "        '%mesenchymal tumor%', '%liposarcoma%', '%leiomyosarcoma%', '%chondrosarcoma%',\n",
    "        '%Ewing\\'s sarcoma%', '%Kaposi\\'s sarcoma%', '%osteosarcoma%',\n",
    "        '%rhabdomyosarcoma%', '%fibrosarcoma%'\n",
    "    ],\n",
    "    \"Lung Cancer\": [\n",
    "        '%lung cancer%', '%lung carcinoma%', '%bronchogenic carcinoma%',\n",
    "        '%pulmonary carcinoma%', '%non-small cell lung cancer%', '%NSCLC%',\n",
    "        '%small cell lung cancer%', '%SCLC%', '%pulmonary neoplasm%',\n",
    "        '%bronchial carcinoma%', '%adenocarcinoma of lung%',\n",
    "        '%squamous cell carcinoma of lung%', '%large cell lung carcinoma%'\n",
    "    ],\n",
    "    \"Bronchitis\": [\n",
    "        '%bronchitis%', '%acute bronchitis%', '%chronic bronchitis%',\n",
    "        '%bronchiolitis%', '%bronchial inflammation%', '%inflammation of bronchi%',\n",
    "        '%respiratory infection%', '%chest cold%', '%bronchial infection%',\n",
    "        '%cough%', '%bronchospasm%', '%bronchial illness%', '%chest infection%'\n",
    "    ],\n",
    "    \"Liver Disease\": [\n",
    "        '%liver disease%', '%hepatic disease%', '%liver disorder%', '%hepatic disorder%',\n",
    "        '%liver dysfunction%', '%hepatic dysfunction%', '%liver failure%',\n",
    "        '%hepatic insufficiency%', '%cirrhosis%', '%hepatitis%', '%fatty liver%',\n",
    "        '%hepatic steatosis%', '%non-alcoholic fatty liver disease%', '%NAFLD%',\n",
    "        '%alcoholic liver disease%', '%MASLD%', '%cholestasis%'\n",
    "    ]\n",
    "}"
   ]
  },
  {
   "cell_type": "code",
   "execution_count": null,
   "id": "dcfabc71",
   "metadata": {},
   "outputs": [],
   "source": [
    "\"\"\" \n",
    "a.id,\n",
    "a.display_name,\n",
    "a.cited_by_count,\n",
    "t.subfield_display_name AS topic_subfield,\n",
    "t.count AS works_tagged\n",
    "\n",
    "\n",
    "\"\"\""
   ]
  },
  {
   "cell_type": "code",
   "execution_count": null,
   "id": "84f5463b",
   "metadata": {},
   "outputs": [
    {
     "name": "stdout",
     "output_type": "stream",
     "text": [
      "[('https://openalex.org/A5009198168', 'Ahmedin Jemal', Decimal('646864'), 'Cancer Research', Decimal('28')), ('https://openalex.org/A5009198168', 'Ahmedin Jemal', Decimal('646864'), 'Cancer Research', Decimal('49')), ('https://openalex.org/A5047300895', 'Rebecca L. Siegel', Decimal('469291'), 'Cancer Research', Decimal('4')), ('https://openalex.org/A5047300895', 'Rebecca L. Siegel', Decimal('469291'), 'Cancer Research', Decimal('4')), ('https://openalex.org/A5020748592', 'Eric S. Lander', Decimal('454660'), 'Cancer Research', Decimal('85')), ('https://openalex.org/A5020748592', 'Eric S. Lander', Decimal('454660'), 'Cancer Research', Decimal('45')), ('https://openalex.org/A5100373745', 'Xiaohong Chen', Decimal('430978'), 'Cancer Research', Decimal('246')), ('https://openalex.org/A5100373745', 'Xiaohong Chen', Decimal('430978'), 'Cancer Research', Decimal('300')), ('https://openalex.org/A5100373745', 'Xiaohong Chen', Decimal('430978'), 'Cancer Research', Decimal('137')), ('https://openalex.org/A5083991449', 'Walter C. Willett', Decimal('382042'), 'Cancer Research', Decimal('104'))]\n",
      "[('https://openalex.org/A5042962646', 'Douglas G. Altman', Decimal('731074'), 'Cardiology and Cardiovascular Medicine', Decimal('30')), ('https://openalex.org/A5068353058', 'David Moher', Decimal('691791'), 'Cardiology and Cardiovascular Medicine', Decimal('27')), ('https://openalex.org/A5102733391', 'Christopher J L Murray', Decimal('468313'), 'Cardiology and Cardiovascular Medicine', Decimal('25')), ('https://openalex.org/A5013184354', 'George Davey Smith', Decimal('386798'), 'Cardiology and Cardiovascular Medicine', Decimal('72')), ('https://openalex.org/A5083991449', 'Walter C. Willett', Decimal('382042'), 'Cardiology and Cardiovascular Medicine', Decimal('73')), ('https://openalex.org/A5076572041', 'Jennifer Tetzlaff', Decimal('379546'), 'Cardiology and Cardiovascular Medicine', Decimal('2')), ('https://openalex.org/A5076572041', 'Jennifer Tetzlaff', Decimal('379546'), 'Cardiology and Cardiovascular Medicine', Decimal('1')), ('https://openalex.org/A5083535850', 'Ali H. Mokdad', Decimal('320130'), 'Cardiology and Cardiovascular Medicine', Decimal('24')), ('https://openalex.org/A5031195893', 'Julian P. T. Higgins', Decimal('318149'), 'Cardiology and Cardiovascular Medicine', Decimal('13')), ('https://openalex.org/A5018419311', 'Salim Yusuf', Decimal('304739'), 'Cardiology and Cardiovascular Medicine', Decimal('179'))]\n"
     ]
    }
   ],
   "source": [
    "for disease , lst_keywords in dict_disease_names.items():\n",
    "    Data_Author_Card(pg_connection = conn , lst_array_keywords = lst_keywords)"
   ]
  },
  {
   "cell_type": "code",
   "execution_count": null,
   "id": "74028411",
   "metadata": {},
   "outputs": [],
   "source": [
    "[('https://openalex.org/A5009198168', 'Ahmedin Jemal', Decimal('646864'), 'Cancer Research', Decimal('28')), ('https://openalex.org/A5009198168', 'Ahmedin Jemal', Decimal('646864'), 'Cancer Research', Decimal('49')), ('https://openalex.org/A5047300895', 'Rebecca L. Siegel', Decimal('469291'), 'Cancer Research', Decimal('4')), ('https://openalex.org/A5047300895', 'Rebecca L. Siegel', Decimal('469291'), 'Cancer Research', Decimal('4')), ('https://openalex.org/A5020748592', 'Eric S. Lander', Decimal('454660'), 'Cancer Research', Decimal('85')), ('https://openalex.org/A5020748592', 'Eric S. Lander', Decimal('454660'), 'Cancer Research', Decimal('45')), ('https://openalex.org/A5100373745', 'Xiaohong Chen', Decimal('430978'), 'Cancer Research', Decimal('246')), ('https://openalex.org/A5100373745', 'Xiaohong Chen', Decimal('430978'), 'Cancer Research', Decimal('300')), ('https://openalex.org/A5100373745', 'Xiaohong Chen', Decimal('430978'), 'Cancer Research', Decimal('137')), ('https://openalex.org/A5083991449', 'Walter C. Willett', Decimal('382042'), 'Cancer Research', Decimal('104'))]\n"
   ]
  },
  {
   "cell_type": "code",
   "execution_count": null,
   "id": "16e2c08d",
   "metadata": {},
   "outputs": [],
   "source": []
  },
  {
   "cell_type": "code",
   "execution_count": null,
   "id": "709a9fa1",
   "metadata": {},
   "outputs": [],
   "source": []
  }
 ],
 "metadata": {
  "kernelspec": {
   "display_name": "venv",
   "language": "python",
   "name": "python3"
  },
  "language_info": {
   "codemirror_mode": {
    "name": "ipython",
    "version": 3
   },
   "file_extension": ".py",
   "mimetype": "text/x-python",
   "name": "python",
   "nbconvert_exporter": "python",
   "pygments_lexer": "ipython3",
   "version": "3.12.10"
  }
 },
 "nbformat": 4,
 "nbformat_minor": 5
}
