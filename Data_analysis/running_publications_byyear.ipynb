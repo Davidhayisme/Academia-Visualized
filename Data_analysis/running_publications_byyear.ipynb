{
 "cells": [
  {
   "cell_type": "code",
   "execution_count": 1,
   "id": "7bc0d017",
   "metadata": {},
   "outputs": [],
   "source": [
    "import pandas , numpy\n",
    "import psycopg2\n",
    "from dotenv import load_dotenv\n",
    "import os\n",
    "import time"
   ]
  },
  {
   "cell_type": "code",
   "execution_count": 2,
   "id": "892cb85f",
   "metadata": {},
   "outputs": [
    {
     "data": {
      "text/plain": [
       "True"
      ]
     },
     "execution_count": 2,
     "metadata": {},
     "output_type": "execute_result"
    }
   ],
   "source": [
    "load_dotenv()"
   ]
  },
  {
   "cell_type": "code",
   "execution_count": 3,
   "id": "ffdfc3f8",
   "metadata": {},
   "outputs": [],
   "source": [
    "#CONNECTING TO COMPANY DB\n",
    "db_name = \"OpenAlex\"\n",
    "user = os.getenv(\"user\")\n",
    "password = os.getenv(\"password\")\n",
    "host = os.getenv(\"host\")\n",
    "port = os.getenv(\"port\")"
   ]
  },
  {
   "cell_type": "code",
   "execution_count": 4,
   "id": "f9804e74",
   "metadata": {},
   "outputs": [],
   "source": [
    "conn = psycopg2.connect(f\"dbname ={db_name} user={user} password={password} host={host} port={port}\")"
   ]
  },
  {
   "cell_type": "code",
   "execution_count": 5,
   "id": "9534ee06",
   "metadata": {},
   "outputs": [],
   "source": [
    "#getting top 5 papers for each field\n",
    "#bronchitis\n",
    "query = \"\"\"\n",
    "WITH bronchitis_related_works AS (\n",
    "    SELECT DISTINCT work_id\n",
    "    FROM works_mesh wm\n",
    "    WHERE wm.descriptor_name ILIKE '%bronchitis%'\n",
    ")\n",
    "SELECT\n",
    "    w.publication_year,\n",
    "    COUNT(DISTINCT w.id) AS publication_count\n",
    "FROM works w\n",
    "JOIN bronchitis_related_works brw ON w.id = brw.work_id\n",
    "WHERE w.publication_year BETWEEN 1990 AND 2025\n",
    "GROUP BY\n",
    "    w.publication_year\n",
    "ORDER BY\n",
    "    w.publication_year;\n",
    "\"\"\""
   ]
  },
  {
   "cell_type": "code",
   "execution_count": 6,
   "id": "09fdaaaf",
   "metadata": {},
   "outputs": [],
   "source": [
    "# cursor = conn.cursor()\n",
    "# cursor.execute(query)\n",
    "# #cursor.execute(query , ([\"%cancer%\"],))\n",
    "# rows = cursor.fetchall()\n",
    "# print(rows)"
   ]
  },
  {
   "cell_type": "code",
   "execution_count": 7,
   "id": "19d4e9aa",
   "metadata": {},
   "outputs": [],
   "source": [
    "dict_diseases = {'Covid': ['%covid%', '%coronavirus%', '%sars-cov-2%', '%2019-ncov%'] ,\n",
    "                 'Bronchitis': ['%bronchitis%'],\n",
    " \"Alzheimer's\": ['%alzheimer%', '%dementia%', '%neurodegenerative%'],\n",
    " 'Diabetes': ['%diabetes%', '%hyperglycemia%'],\n",
    " 'Lymphoma': ['%lymphoma%', '%Hodgkin%', '%lymphatic%'],\n",
    " 'Sarcoma': ['%sarcoma%'],\n",
    " 'Liver Disease': ['%liver%',\n",
    "  '%hepatic%',\n",
    "  '%cirrhosis%',\n",
    "  '%hepatitis%',\n",
    "  '%cholestasis%'] ,\n",
    "  'Heart disease': ['%heart%',\n",
    "  '%cardiovascular%',\n",
    "  '%cardiac%',\n",
    "  '%coronary%',\n",
    "  '%myocardial%',\n",
    "  '%angina%',\n",
    "  '%cardiomyopathy%',\n",
    "  '%arteriosclerosis%'],\n",
    "  'Cancer': ['%cancer%', '%carcinoma%', '%neoplasm%', '%tumor%', '%malignant%']}"
   ]
  },
  {
   "cell_type": "code",
   "execution_count": 8,
   "id": "6f67d1b5",
   "metadata": {},
   "outputs": [],
   "source": [
    "def number_publications_byyear(keyword = None, lst_keywords = None):\n",
    "    if keyword:\n",
    "        query = f\"\"\"\n",
    "            WITH bronchitis_related_works AS (\n",
    "                SELECT DISTINCT work_id\n",
    "                FROM works_mesh wm\n",
    "                WHERE wm.descriptor_name ILIKE '{keyword}'\n",
    "            )\n",
    "            SELECT\n",
    "                w.publication_year,\n",
    "                COUNT(DISTINCT w.id) AS publication_count\n",
    "            FROM works w\n",
    "            JOIN bronchitis_related_works brw ON w.id = brw.work_id\n",
    "            WHERE w.publication_year BETWEEN 1990 AND 2025\n",
    "            GROUP BY\n",
    "                w.publication_year\n",
    "            ORDER BY\n",
    "                w.publication_year;\n",
    "            \"\"\"\n",
    "    else:\n",
    "        formatted_keywords = \", \".join([f\"'{kw}'\" for kw in lst_keywords])\n",
    "        query = f\"\"\"\n",
    "            WITH bronchitis_related_works AS (\n",
    "                SELECT DISTINCT work_id\n",
    "                FROM works_mesh wm\n",
    "                WHERE wm.descriptor_name ILIKE ANY(ARRAY[{formatted_keywords}])\n",
    "            )\n",
    "            SELECT\n",
    "                w.publication_year,\n",
    "                COUNT(DISTINCT w.id) AS publication_count\n",
    "            FROM works w\n",
    "            JOIN bronchitis_related_works brw ON w.id = brw.work_id\n",
    "            WHERE w.publication_year BETWEEN 1990 AND 2025\n",
    "            GROUP BY\n",
    "                w.publication_year\n",
    "            ORDER BY\n",
    "                w.publication_year;\n",
    "            \"\"\"\n",
    "    return query"
   ]
  },
  {
   "cell_type": "code",
   "execution_count": null,
   "id": "90bd0ef5",
   "metadata": {},
   "outputs": [
    {
     "name": "stdout",
     "output_type": "stream",
     "text": [
      "running Covid\n",
      "[(Decimal('1990'), 14), (Decimal('1991'), 9), (Decimal('1992'), 25), (Decimal('1993'), 48), (Decimal('1994'), 138), (Decimal('1995'), 149), (Decimal('1996'), 89), (Decimal('1997'), 106), (Decimal('1998'), 138), (Decimal('1999'), 106), (Decimal('2000'), 108), (Decimal('2001'), 146), (Decimal('2002'), 97), (Decimal('2003'), 231), (Decimal('2004'), 329), (Decimal('2005'), 336), (Decimal('2006'), 382), (Decimal('2007'), 260), (Decimal('2008'), 255), (Decimal('2009'), 248), (Decimal('2010'), 215), (Decimal('2011'), 191), (Decimal('2012'), 252), (Decimal('2013'), 386), (Decimal('2014'), 509), (Decimal('2015'), 598), (Decimal('2016'), 550), (Decimal('2017'), 487), (Decimal('2018'), 444), (Decimal('2019'), 548), (Decimal('2020'), 49256), (Decimal('2021'), 69529), (Decimal('2022'), 69634), (Decimal('2023'), 44799), (Decimal('2024'), 27073), (Decimal('2025'), 3060)]\n",
      "Ran in 413.11091017723083 seconds\n",
      "running Bronchitis\n",
      "[(Decimal('1990'), 460), (Decimal('1991'), 394), (Decimal('1992'), 335), (Decimal('1993'), 297), (Decimal('1994'), 283), (Decimal('1995'), 273), (Decimal('1996'), 276), (Decimal('1997'), 279), (Decimal('1998'), 316), (Decimal('1999'), 278), (Decimal('2000'), 341), (Decimal('2001'), 347), (Decimal('2002'), 265), (Decimal('2003'), 270), (Decimal('2004'), 298), (Decimal('2005'), 269), (Decimal('2006'), 288), (Decimal('2007'), 267), (Decimal('2008'), 259), (Decimal('2009'), 222), (Decimal('2010'), 230), (Decimal('2011'), 232), (Decimal('2012'), 245), (Decimal('2013'), 229), (Decimal('2014'), 225), (Decimal('2015'), 250), (Decimal('2016'), 215), (Decimal('2017'), 203), (Decimal('2018'), 185), (Decimal('2019'), 195), (Decimal('2020'), 162), (Decimal('2021'), 149), (Decimal('2022'), 224), (Decimal('2023'), 170), (Decimal('2024'), 142), (Decimal('2025'), 18)]\n",
      "Ran in 122.43095064163208 seconds\n",
      "running Alzheimer's\n",
      "[(Decimal('1990'), 1794), (Decimal('1991'), 1972), (Decimal('1992'), 1911), (Decimal('1993'), 1963), (Decimal('1994'), 2401), (Decimal('1995'), 2457), (Decimal('1996'), 2641), (Decimal('1997'), 2993), (Decimal('1998'), 3094), (Decimal('1999'), 3189), (Decimal('2000'), 3568), (Decimal('2001'), 3717), (Decimal('2002'), 4160), (Decimal('2003'), 4326), (Decimal('2004'), 4764), (Decimal('2005'), 4747), (Decimal('2006'), 5074), (Decimal('2007'), 5039), (Decimal('2008'), 5490), (Decimal('2009'), 5893), (Decimal('2010'), 6218), (Decimal('2011'), 6609), (Decimal('2012'), 6913), (Decimal('2013'), 7386), (Decimal('2014'), 7668), (Decimal('2015'), 7929), (Decimal('2016'), 8509), (Decimal('2017'), 8715), (Decimal('2018'), 9209), (Decimal('2019'), 9828), (Decimal('2020'), 9527), (Decimal('2021'), 10436), (Decimal('2022'), 12406), (Decimal('2023'), 12646), (Decimal('2024'), 11396), (Decimal('2025'), 1265)]\n",
      "Ran in 319.98187232017517 seconds\n",
      "running Diabetes\n",
      "[(Decimal('1990'), 4638), (Decimal('1991'), 4614), (Decimal('1992'), 4639), (Decimal('1993'), 4825), (Decimal('1994'), 4899), (Decimal('1995'), 4917), (Decimal('1996'), 5293), (Decimal('1997'), 5801), (Decimal('1998'), 5851), (Decimal('1999'), 6185), (Decimal('2000'), 6559), (Decimal('2001'), 7244), (Decimal('2002'), 8480), (Decimal('2003'), 8950), (Decimal('2004'), 9825), (Decimal('2005'), 10519), (Decimal('2006'), 11028), (Decimal('2007'), 11270), (Decimal('2008'), 12573), (Decimal('2009'), 13314), (Decimal('2010'), 13662), (Decimal('2011'), 14351), (Decimal('2012'), 15146), (Decimal('2013'), 16105), (Decimal('2014'), 16770), (Decimal('2015'), 17047), (Decimal('2016'), 17393), (Decimal('2017'), 16692), (Decimal('2018'), 17158), (Decimal('2019'), 17348), (Decimal('2020'), 16967), (Decimal('2021'), 18752), (Decimal('2022'), 22828), (Decimal('2023'), 21980), (Decimal('2024'), 15908), (Decimal('2025'), 1872)]\n",
      "Ran in 206.98371267318726 seconds\n",
      "running Lymphoma\n",
      "[(Decimal('1990'), 5211), (Decimal('1991'), 5015), (Decimal('1992'), 5212), (Decimal('1993'), 5185), (Decimal('1994'), 5427), (Decimal('1995'), 5544), (Decimal('1996'), 5657), (Decimal('1997'), 5765), (Decimal('1998'), 5831), (Decimal('1999'), 5898), (Decimal('2000'), 6433), (Decimal('2001'), 6364), (Decimal('2002'), 6778), (Decimal('2003'), 7314), (Decimal('2004'), 7157), (Decimal('2005'), 7739), (Decimal('2006'), 7842), (Decimal('2007'), 8204), (Decimal('2008'), 8735), (Decimal('2009'), 8438), (Decimal('2010'), 8934), (Decimal('2011'), 9499), (Decimal('2012'), 9543), (Decimal('2013'), 10051), (Decimal('2014'), 10195), (Decimal('2015'), 10565), (Decimal('2016'), 9581), (Decimal('2017'), 9140), (Decimal('2018'), 9243), (Decimal('2019'), 9067), (Decimal('2020'), 7519), (Decimal('2021'), 7860), (Decimal('2022'), 8085), (Decimal('2023'), 7627), (Decimal('2024'), 6447), (Decimal('2025'), 690)]\n",
      "Ran in 288.29337525367737 seconds\n",
      "running Sarcoma\n",
      "[(Decimal('1990'), 2369), (Decimal('1991'), 2327), (Decimal('1992'), 2223), (Decimal('1993'), 2334), (Decimal('1994'), 2299), (Decimal('1995'), 2489), (Decimal('1996'), 2499), (Decimal('1997'), 2523), (Decimal('1998'), 2508), (Decimal('1999'), 2469), (Decimal('2000'), 2499), (Decimal('2001'), 2494), (Decimal('2002'), 2509), (Decimal('2003'), 2738), (Decimal('2004'), 2702), (Decimal('2005'), 2859), (Decimal('2006'), 2769), (Decimal('2007'), 2878), (Decimal('2008'), 2927), (Decimal('2009'), 2908), (Decimal('2010'), 2979), (Decimal('2011'), 3119), (Decimal('2012'), 3024), (Decimal('2013'), 3262), (Decimal('2014'), 3439), (Decimal('2015'), 3493), (Decimal('2016'), 3150), (Decimal('2017'), 3220), (Decimal('2018'), 3270), (Decimal('2019'), 3300), (Decimal('2020'), 2894), (Decimal('2021'), 3062), (Decimal('2022'), 3497), (Decimal('2023'), 3072), (Decimal('2024'), 2479), (Decimal('2025'), 302)]\n",
      "Ran in 96.31538367271423 seconds\n",
      "running Liver Disease\n"
     ]
    }
   ],
   "source": [
    "#running all the diseases\n",
    "for key , value in dict_diseases.items():\n",
    "    print(f\"running {key}\")\n",
    "    before_running = time.time()\n",
    "    if len(value) == 1:\n",
    "        query = number_publications_byyear(keyword = value[0])\n",
    "    else:\n",
    "        query = number_publications_byyear(lst_keywords = value)\n",
    "\n",
    "    cursor = conn.cursor()\n",
    "    cursor.execute(query)\n",
    "    rows = cursor.fetchall()\n",
    "    after_running = time.time()\n",
    "    print(rows)\n",
    "    print(f\"Ran in {after_running - before_running} seconds\")\n",
    "#complete\n",
    "\n",
    "running Covid\n",
    "[(Decimal('1990'), 14), (Decimal('1991'), 9), (Decimal('1992'), 25), (Decimal('1993'), 48), (Decimal('1994'), 138), (Decimal('1995'), 149), (Decimal('1996'), 89), (Decimal('1997'), 106), (Decimal('1998'), 138), (Decimal('1999'), 106), (Decimal('2000'), 108), (Decimal('2001'), 146), (Decimal('2002'), 97), (Decimal('2003'), 231), (Decimal('2004'), 329), (Decimal('2005'), 336), (Decimal('2006'), 382), (Decimal('2007'), 260), (Decimal('2008'), 255), (Decimal('2009'), 248), (Decimal('2010'), 215), (Decimal('2011'), 191), (Decimal('2012'), 252), (Decimal('2013'), 386), (Decimal('2014'), 509), (Decimal('2015'), 598), (Decimal('2016'), 550), (Decimal('2017'), 487), (Decimal('2018'), 444), (Decimal('2019'), 548), (Decimal('2020'), 49256), (Decimal('2021'), 69529), (Decimal('2022'), 69634), (Decimal('2023'), 44799), (Decimal('2024'), 27073), (Decimal('2025'), 3060)]\n",
    "Ran in 413.11091017723083 seconds\n",
    "running Bronchitis\n",
    "[(Decimal('1990'), 460), (Decimal('1991'), 394), (Decimal('1992'), 335), (Decimal('1993'), 297), (Decimal('1994'), 283), (Decimal('1995'), 273), (Decimal('1996'), 276), (Decimal('1997'), 279), (Decimal('1998'), 316), (Decimal('1999'), 278), (Decimal('2000'), 341), (Decimal('2001'), 347), (Decimal('2002'), 265), (Decimal('2003'), 270), (Decimal('2004'), 298), (Decimal('2005'), 269), (Decimal('2006'), 288), (Decimal('2007'), 267), (Decimal('2008'), 259), (Decimal('2009'), 222), (Decimal('2010'), 230), (Decimal('2011'), 232), (Decimal('2012'), 245), (Decimal('2013'), 229), (Decimal('2014'), 225), (Decimal('2015'), 250), (Decimal('2016'), 215), (Decimal('2017'), 203), (Decimal('2018'), 185), (Decimal('2019'), 195), (Decimal('2020'), 162), (Decimal('2021'), 149), (Decimal('2022'), 224), (Decimal('2023'), 170), (Decimal('2024'), 142), (Decimal('2025'), 18)]\n",
    "Ran in 122.43095064163208 seconds\n",
    "running Alzheimer's\n",
    "[(Decimal('1990'), 1794), (Decimal('1991'), 1972), (Decimal('1992'), 1911), (Decimal('1993'), 1963), (Decimal('1994'), 2401), (Decimal('1995'), 2457), (Decimal('1996'), 2641), (Decimal('1997'), 2993), (Decimal('1998'), 3094), (Decimal('1999'), 3189), (Decimal('2000'), 3568), (Decimal('2001'), 3717), (Decimal('2002'), 4160), (Decimal('2003'), 4326), (Decimal('2004'), 4764), (Decimal('2005'), 4747), (Decimal('2006'), 5074), (Decimal('2007'), 5039), (Decimal('2008'), 5490), (Decimal('2009'), 5893), (Decimal('2010'), 6218), (Decimal('2011'), 6609), (Decimal('2012'), 6913), (Decimal('2013'), 7386), (Decimal('2014'), 7668), (Decimal('2015'), 7929), (Decimal('2016'), 8509), (Decimal('2017'), 8715), (Decimal('2018'), 9209), (Decimal('2019'), 9828), (Decimal('2020'), 9527), (Decimal('2021'), 10436), (Decimal('2022'), 12406), (Decimal('2023'), 12646), (Decimal('2024'), 11396), (Decimal('2025'), 1265)]\n",
    "Ran in 319.98187232017517 seconds\n",
    "running Diabetes\n",
    "[(Decimal('1990'), 4638), (Decimal('1991'), 4614), (Decimal('1992'), 4639), (Decimal('1993'), 4825), (Decimal('1994'), 4899), (Decimal('1995'), 4917), (Decimal('1996'), 5293), (Decimal('1997'), 5801), (Decimal('1998'), 5851), (Decimal('1999'), 6185), (Decimal('2000'), 6559), (Decimal('2001'), 7244), (Decimal('2002'), 8480), (Decimal('2003'), 8950), (Decimal('2004'), 9825), (Decimal('2005'), 10519), (Decimal('2006'), 11028), (Decimal('2007'), 11270), (Decimal('2008'), 12573), (Decimal('2009'), 13314), (Decimal('2010'), 13662), (Decimal('2011'), 14351), (Decimal('2012'), 15146), (Decimal('2013'), 16105), (Decimal('2014'), 16770), (Decimal('2015'), 17047), (Decimal('2016'), 17393), (Decimal('2017'), 16692), (Decimal('2018'), 17158), (Decimal('2019'), 17348), (Decimal('2020'), 16967), (Decimal('2021'), 18752), (Decimal('2022'), 22828), (Decimal('2023'), 21980), (Decimal('2024'), 15908), (Decimal('2025'), 1872)]\n",
    "Ran in 206.98371267318726 seconds\n",
    "running Lymphoma\n",
    "[(Decimal('1990'), 5211), (Decimal('1991'), 5015), (Decimal('1992'), 5212), (Decimal('1993'), 5185), (Decimal('1994'), 5427), (Decimal('1995'), 5544), (Decimal('1996'), 5657), (Decimal('1997'), 5765), (Decimal('1998'), 5831), (Decimal('1999'), 5898), (Decimal('2000'), 6433), (Decimal('2001'), 6364), (Decimal('2002'), 6778), (Decimal('2003'), 7314), (Decimal('2004'), 7157), (Decimal('2005'), 7739), (Decimal('2006'), 7842), (Decimal('2007'), 8204), (Decimal('2008'), 8735), (Decimal('2009'), 8438), (Decimal('2010'), 8934), (Decimal('2011'), 9499), (Decimal('2012'), 9543), (Decimal('2013'), 10051), (Decimal('2014'), 10195), (Decimal('2015'), 10565), (Decimal('2016'), 9581), (Decimal('2017'), 9140), (Decimal('2018'), 9243), (Decimal('2019'), 9067), (Decimal('2020'), 7519), (Decimal('2021'), 7860), (Decimal('2022'), 8085), (Decimal('2023'), 7627), (Decimal('2024'), 6447), (Decimal('2025'), 690)]\n",
    "Ran in 288.29337525367737 seconds\n",
    "running Sarcoma\n",
    "[(Decimal('1990'), 2369), (Decimal('1991'), 2327), (Decimal('1992'), 2223), (Decimal('1993'), 2334), (Decimal('1994'), 2299), (Decimal('1995'), 2489), (Decimal('1996'), 2499), (Decimal('1997'), 2523), (Decimal('1998'), 2508), (Decimal('1999'), 2469), (Decimal('2000'), 2499), (Decimal('2001'), 2494), (Decimal('2002'), 2509), (Decimal('2003'), 2738), (Decimal('2004'), 2702), (Decimal('2005'), 2859), (Decimal('2006'), 2769), (Decimal('2007'), 2878), (Decimal('2008'), 2927), (Decimal('2009'), 2908), (Decimal('2010'), 2979), (Decimal('2011'), 3119), (Decimal('2012'), 3024), (Decimal('2013'), 3262), (Decimal('2014'), 3439), (Decimal('2015'), 3493), (Decimal('2016'), 3150), (Decimal('2017'), 3220), (Decimal('2018'), 3270), (Decimal('2019'), 3300), (Decimal('2020'), 2894), (Decimal('2021'), 3062), (Decimal('2022'), 3497), (Decimal('2023'), 3072), (Decimal('2024'), 2479), (Decimal('2025'), 302)]\n",
    "Ran in 96.31538367271423 seconds\n",
    "running Liver Disease"
   ]
  }
 ],
 "metadata": {
  "kernelspec": {
   "display_name": "venv",
   "language": "python",
   "name": "python3"
  },
  "language_info": {
   "codemirror_mode": {
    "name": "ipython",
    "version": 3
   },
   "file_extension": ".py",
   "mimetype": "text/x-python",
   "name": "python",
   "nbconvert_exporter": "python",
   "pygments_lexer": "ipython3",
   "version": "3.12.10"
  }
 },
 "nbformat": 4,
 "nbformat_minor": 5
}
