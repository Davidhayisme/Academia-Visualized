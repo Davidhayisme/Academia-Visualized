{
 "cells": [
  {
   "cell_type": "code",
   "execution_count": 1,
   "id": "0bab5d4e",
   "metadata": {},
   "outputs": [],
   "source": [
    "import pandas , numpy\n",
    "import psycopg2\n",
    "from dotenv import load_dotenv\n",
    "import os\n",
    "import time"
   ]
  },
  {
   "cell_type": "code",
   "execution_count": 2,
   "id": "e865f803",
   "metadata": {},
   "outputs": [
    {
     "data": {
      "text/plain": [
       "True"
      ]
     },
     "execution_count": 2,
     "metadata": {},
     "output_type": "execute_result"
    }
   ],
   "source": [
    "load_dotenv()"
   ]
  },
  {
   "cell_type": "code",
   "execution_count": 3,
   "id": "de9983d1",
   "metadata": {},
   "outputs": [],
   "source": [
    "#CONNECTING TO COMPANY DB\n",
    "db_name = \"OpenAlex\"\n",
    "user = os.getenv(\"user\")\n",
    "password = os.getenv(\"password\")\n",
    "host = os.getenv(\"host\")\n",
    "port = os.getenv(\"port\")"
   ]
  },
  {
   "cell_type": "code",
   "execution_count": 4,
   "id": "86754178",
   "metadata": {},
   "outputs": [],
   "source": [
    "conn = psycopg2.connect(f\"dbname ={db_name} user={user} password={password} host={host} port={port}\")"
   ]
  },
  {
   "cell_type": "code",
   "execution_count": 5,
   "id": "d69fb06e",
   "metadata": {},
   "outputs": [],
   "source": [
    "#getting top 5 papers for each field\n",
    "#bronchitis\n",
    "query = \"\"\"\n",
    "        WITH cardiovascular_related_works AS (\n",
    "            SELECT DISTINCT id\n",
    "            FROM works\n",
    "            JOIN works_mesh wm ON works.id = wm.work_id\n",
    "            WHERE wm.descriptor_name ILIKE ANY(ARRAY['%lymphoma%', '%Hodgkin%', '%lymphatic%'])\n",
    "        ),\n",
    "        work_institutions AS (\n",
    "            SELECT\n",
    "                crw.id AS work_id,\n",
    "                unnest(w.corresponding_institution_ids) AS institution_id\n",
    "            FROM cardiovascular_related_works crw\n",
    "            JOIN works w ON crw.id = w.id\n",
    "            WHERE w.corresponding_institution_ids IS NOT NULL\n",
    "        )\n",
    "        SELECT\n",
    "            i.id AS institution_id,\n",
    "            i.display_name AS institution_name,\n",
    "            COUNT(DISTINCT wi.work_id) AS num_publications,\n",
    "            COALESCE(SUM(w.cited_by_count), 0) AS total_citations\n",
    "        FROM work_institutions wi\n",
    "        JOIN institutions i ON wi.institution_id = i.id\n",
    "        JOIN works w ON wi.work_id = w.id\n",
    "        GROUP BY\n",
    "            i.id,\n",
    "            i.display_name\n",
    "        ORDER BY\n",
    "            total_citations DESC\n",
    "        LIMIT 10;\n",
    "        \"\"\""
   ]
  },
  {
   "cell_type": "code",
   "execution_count": null,
   "id": "9379b3d0",
   "metadata": {},
   "outputs": [],
   "source": [
    "cursor = conn.cursor()\n",
    "cursor.execute(query)\n",
    "#cursor.execute(query , ([\"%cancer%\"],))\n",
    "rows = cursor.fetchall()\n",
    "print(rows)"
   ]
  },
  {
   "cell_type": "code",
   "execution_count": 7,
   "id": "87dab550",
   "metadata": {},
   "outputs": [],
   "source": [
    "dict_diseases = {'Bronchitis': ['%bronchitis%'],\n",
    " 'Covid': ['%covid%', '%coronavirus%', '%sars-cov-2%', '%2019-ncov%'],\n",
    " \"Alzheimer's\": ['%alzheimer%', '%dementia%', '%neurodegenerative%'],\n",
    " 'Diabetes': ['%diabetes%', '%hyperglycemia%'],\n",
    " 'Lymphoma': ['%lymphoma%', '%Hodgkin%', '%lymphatic%'],\n",
    " 'Sarcoma': ['%sarcoma%'],\n",
    " 'Liver Disease': ['%liver%',\n",
    "  '%hepatic%',\n",
    "  '%cirrhosis%',\n",
    "  '%hepatitis%',\n",
    "  '%cholestasis%'] ,\n",
    "  'Heart disease': ['%heart%',\n",
    "  '%cardiovascular%',\n",
    "  '%cardiac%',\n",
    "  '%coronary%',\n",
    "  '%myocardial%',\n",
    "  '%angina%',\n",
    "  '%cardiomyopathy%',\n",
    "  '%arteriosclerosis%'],\n",
    "  'Cancer': ['%cancer%', '%carcinoma%', '%neoplasm%', '%tumor%', '%malignant%']}"
   ]
  },
  {
   "cell_type": "code",
   "execution_count": 8,
   "id": "ec768ebf",
   "metadata": {},
   "outputs": [],
   "source": [
    "def running_top_institutions(keyword = None, lst_keywords = None):\n",
    "    if keyword:\n",
    "        query = f\"\"\"\n",
    "        WITH cardiovascular_related_works AS (\n",
    "            SELECT DISTINCT id\n",
    "            FROM works\n",
    "            JOIN works_mesh wm ON works.id = wm.work_id\n",
    "            WHERE wm.descriptor_name ILIKE '{keyword}'\n",
    "        ),\n",
    "        work_institutions AS (\n",
    "            SELECT\n",
    "                crw.id AS work_id,\n",
    "                unnest(w.corresponding_institution_ids) AS institution_id\n",
    "            FROM cardiovascular_related_works crw\n",
    "            JOIN works w ON crw.id = w.id\n",
    "            WHERE w.corresponding_institution_ids IS NOT NULL\n",
    "        )\n",
    "        SELECT\n",
    "            i.id AS institution_id,\n",
    "            i.display_name AS institution_name,\n",
    "            COUNT(DISTINCT wi.work_id) AS num_publications,\n",
    "            COALESCE(SUM(w.cited_by_count), 0) AS total_citations\n",
    "        FROM work_institutions wi\n",
    "        JOIN institutions i ON wi.institution_id = i.id\n",
    "        JOIN works w ON wi.work_id = w.id\n",
    "        GROUP BY\n",
    "            i.id,\n",
    "            i.display_name\n",
    "        ORDER BY\n",
    "            total_citations DESC\n",
    "        LIMIT 10;\n",
    "            \"\"\"\n",
    "    else:\n",
    "        formatted_keywords = \", \".join([f\"'{kw}'\" for kw in lst_keywords])\n",
    "        query = f\"\"\"\n",
    "            WITH cardiovascular_related_works AS (\n",
    "            SELECT DISTINCT id\n",
    "            FROM works\n",
    "            JOIN works_mesh wm ON works.id = wm.work_id\n",
    "            WHERE wm.descriptor_name ILIKE ANY(ARRAY[{formatted_keywords}])\n",
    "        ),\n",
    "        work_institutions AS (\n",
    "            SELECT\n",
    "                crw.id AS work_id,\n",
    "                unnest(w.corresponding_institution_ids) AS institution_id\n",
    "            FROM cardiovascular_related_works crw\n",
    "            JOIN works w ON crw.id = w.id\n",
    "            WHERE w.corresponding_institution_ids IS NOT NULL\n",
    "        )\n",
    "        SELECT\n",
    "            i.id AS institution_id,\n",
    "            i.display_name AS institution_name,\n",
    "            COUNT(DISTINCT wi.work_id) AS num_publications,\n",
    "            COALESCE(SUM(w.cited_by_count), 0) AS total_citations\n",
    "        FROM work_institutions wi\n",
    "        JOIN institutions i ON wi.institution_id = i.id\n",
    "        JOIN works w ON wi.work_id = w.id\n",
    "        GROUP BY\n",
    "            i.id,\n",
    "            i.display_name\n",
    "        ORDER BY\n",
    "            total_citations DESC\n",
    "        LIMIT 10;\n",
    "            \"\"\"\n",
    "    return query"
   ]
  },
  {
   "cell_type": "code",
   "execution_count": null,
   "id": "e10257fb",
   "metadata": {},
   "outputs": [
    {
     "name": "stdout",
     "output_type": "stream",
     "text": [
      "running Bronchitis\n"
     ]
    }
   ],
   "source": [
    "#running all the diseases\n",
    "for key , value in dict_diseases.items():\n",
    "    print(f\"running {key}\")\n",
    "    before_running = time.time()\n",
    "    if len(value) == 1:\n",
    "        query = running_top_institutions(keyword = value[0])\n",
    "    else:\n",
    "        query = running_top_institutions(lst_keywords = value)\n",
    "\n",
    "    cursor = conn.cursor()\n",
    "    cursor.execute(query)\n",
    "    rows = cursor.fetchall()\n",
    "    after_running = time.time()\n",
    "    print(rows)\n",
    "    print(f\"Ran in {after_running - before_running} seconds\")\n",
    "    \n",
    "\n",
    "\"\"\"\n",
    "running Bronchitis\n",
    "[('https://openalex.org/I2801388914', 'Southampton General Hospital', 9, Decimal('3565')), ('https://openalex.org/I43439940', 'University of Southampton', 9, Decimal('3336')), ('https://openalex.org/I2802542264', 'University Hospital of Basel', 1, Decimal('2182')), ('https://openalex.org/I900890020', 'University of Palermo', 4, Decimal('2054')), ('https://openalex.org/I4210087413', 'University of Colorado Health', 5, Decimal('1952')), ('https://openalex.org/I141945490', 'University of British Columbia', 14, Decimal('1930')), ('https://openalex.org/I4210096640', 'Royal Brompton Hospital', 34, Decimal('1891')), ('https://openalex.org/I4210138501', 'Chinese Academy of Agricultural Sciences', 34, Decimal('1631')), ('https://openalex.org/I47508984', 'Imperial College London', 12, Decimal('1503')), ('https://openalex.org/I4210099160', 'Centro de Investigación Biomédica en Red de Enfermedades Respiratorias', 15, Decimal('1355'))]\n",
    "Ran in 194.40675592422485 seconds\n",
    "running Covid\n",
    "[('https://openalex.org/I154526488', 'Inserm', 1124, Decimal('245577')), ('https://openalex.org/I200296433', 'Chinese Academy of Medical Sciences & Peking Union Medical College', 770, Decimal('200655')), ('https://openalex.org/I204730241', 'Université Paris Cité', 495, Decimal('188728')), ('https://openalex.org/I83399316', 'Rockefeller University', 74, Decimal('184924')), ('https://openalex.org/I4210165077', 'Institut des Maladies Génétiques Imagine', 27, Decimal('160511')), ('https://openalex.org/I40120149', 'University of Oxford', 1051, Decimal('154811')), ('https://openalex.org/I37461747', 'Wuhan University', 581, Decimal('154139')), ('https://openalex.org/I136199984', 'Harvard University', 2042, Decimal('145970')), ('https://openalex.org/I47720641', 'Huazhong University of Science and Technology', 797, Decimal('141975')), ('https://openalex.org/I99065089', 'Tsinghua University', 305, Decimal('129789'))]\n",
    "Ran in 388.70435786247253 seconds\n",
    "running Alzheimer's\n",
    "[('https://openalex.org/I136199984', 'Harvard University', 1475, Decimal('185605')), ('https://openalex.org/I45129253', 'University College London', 1487, Decimal('128064')), ('https://openalex.org/I154526488', 'Inserm', 1157, Decimal('113483')), ('https://openalex.org/I145311948', 'Johns Hopkins University', 925, Decimal('100711')), ('https://openalex.org/I180670191', 'University of California, San Francisco', 939, Decimal('98580')), ('https://openalex.org/I204465549', 'Washington University in St. Louis', 654, Decimal('97035')), ('https://openalex.org/I4210087915', 'Massachusetts General Hospital', 793, Decimal('96893')), ('https://openalex.org/I79576946', 'University of Pennsylvania', 752, Decimal('93866')), ('https://openalex.org/I36258959', 'University of California, San Diego', 743, Decimal('85549')), ('https://openalex.org/I1283280774', \"Brigham and Women's Hospital\", 507, Decimal('83725'))]\n",
    "Ran in 457.1918411254883 seconds\n",
    "running Sarcoma\n",
    "[('https://openalex.org/I136199984', 'Harvard University', 624, Decimal('53636')), ('https://openalex.org/I1334819555', 'Memorial Sloan Kettering Cancer Center', 583, Decimal('48435')), ('https://openalex.org/I1343551460', 'The University of Texas MD Anderson Cancer Center', 573, Decimal('36573')), ('https://openalex.org/I4210140884', 'National Cancer Institute', 384, Decimal('33877')), ('https://openalex.org/I1283280774', \"Brigham and Women's Hospital\", 263, Decimal('29756')), ('https://openalex.org/I1299303238', 'National Institutes of Health', 231, Decimal('25117')), ('https://openalex.org/I4210087915', 'Massachusetts General Hospital', 360, Decimal('24681')), ('https://openalex.org/I154526488', 'Inserm', 338, Decimal('20788')), ('https://openalex.org/I1330342723', 'Mayo Clinic', 249, Decimal('15912')), ('https://openalex.org/I145311948', 'Johns Hopkins University', 219, Decimal('15138'))]\n",
    "Ran in 167.66896557807922 seconds\n",
    "\"\"\""
   ]
  }
 ],
 "metadata": {
  "kernelspec": {
   "display_name": "venv",
   "language": "python",
   "name": "python3"
  },
  "language_info": {
   "codemirror_mode": {
    "name": "ipython",
    "version": 3
   },
   "file_extension": ".py",
   "mimetype": "text/x-python",
   "name": "python",
   "nbconvert_exporter": "python",
   "pygments_lexer": "ipython3",
   "version": "3.12.10"
  }
 },
 "nbformat": 4,
 "nbformat_minor": 5
}
